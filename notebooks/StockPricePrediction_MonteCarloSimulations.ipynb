{
 "cells": [
  {
   "cell_type": "markdown",
   "id": "3a05f165-4cc2-4c74-891f-bbec21c00d88",
   "metadata": {},
   "source": [
    "## Predicting Stock Prices with Monte Carlo Simulations"
   ]
  },
  {
   "cell_type": "code",
   "execution_count": null,
   "id": "bb56e452-b884-4f84-88fa-405d43a9b73a",
   "metadata": {},
   "outputs": [],
   "source": [
    "!pip install --no-cache-dir backtesting rich httpx pandas_ta lxml yfinance TA-Lib scipy"
   ]
  },
  {
   "cell_type": "markdown",
   "id": "8dd5207b-fb09-4705-89c6-c2fd4bb177f7",
   "metadata": {},
   "source": [
    "### Setting Up the Environment"
   ]
  },
  {
   "cell_type": "code",
   "execution_count": null,
   "id": "63c77076-89cf-4c4e-9c18-5f2a461bb205",
   "metadata": {},
   "outputs": [],
   "source": [
    "import pandas as pd\n",
    "import numpy as np\n",
    "from datetime import datetime\n",
    "import concurrent.futures\n",
    "import warnings\n",
    "from rich.progress import track\n",
    "from backtesting import Backtest, Strategy\n",
    "import pandas_ta as ta\n",
    "import matplotlib.pyplot as plt\n",
    "from scipy.stats import norm\n",
    "import httpx"
   ]
  },
  {
   "cell_type": "markdown",
   "id": "5c9632ad-4a20-48fa-a825-6bae30530155",
   "metadata": {},
   "source": [
    "### Defining Utility Functions"
   ]
  },
  {
   "cell_type": "code",
   "execution_count": null,
   "id": "22713c62-0ae5-4afc-b800-f3c6e8ec9d29",
   "metadata": {},
   "outputs": [],
   "source": [
    "def make_api_request(api_endpoint, params):\n",
    "    with httpx.Client() as client:\n",
    "        # Make the GET request to the API\n",
    "        response = client.get(api_endpoint, params=params)\n",
    "        if response.status_code == 200:\n",
    "            return response.json()\n",
    "        print(\"Error: Failed to retrieve data from API\")\n",
    "        return None\n",
    "\n",
    "def get_historical_price_full_crypto(symbol):\n",
    "    api_endpoint = f\"{BASE_URL_FMP}/historical-price-full/crypto/{symbol}\"\n",
    "    params = {\"apikey\": FMP_API_KEY}\n",
    "    return make_api_request(api_endpoint, params)\n",
    "\n",
    "\n",
    "def get_historical_price_full_stock(symbol):\n",
    "    api_endpoint = f\"{BASE_URL_FMP}/historical-price-full/{symbol}\"\n",
    "    params = {\"apikey\": FMP_API_KEY}\n",
    "\n",
    "    return make_api_request(api_endpoint, params)\n",
    "\n",
    "def get_SP500():\n",
    "    api_endpoint = \"https://en.wikipedia.org/wiki/List_of_S%26P_500_companies\"\n",
    "    data = pd.read_html(api_endpoint)\n",
    "    return list(data[0]['Symbol'])\n",
    "\n",
    "def get_all_crypto():\n",
    "    return [\n",
    "        \"BTCUSD\", \"ETHUSD\", \"LTCUSD\", \"BCHUSD\", \"XRPUSD\", \"EOSUSD\",\n",
    "        \"XLMUSD\", \"TRXUSD\", \"ETCUSD\", \"DASHUSD\", \"ZECUSD\", \"XTZUSD\",\n",
    "        \"XMRUSD\", \"ADAUSD\", \"NEOUSD\", \"XEMUSD\", \"VETUSD\", \"DOGEUSD\",\n",
    "        \"OMGUSD\", \"ZRXUSD\", \"BATUSD\", \"USDTUSD\", \"LINKUSD\", \"BTTUSD\",\n",
    "        \"BNBUSD\", \"ONTUSD\", \"QTUMUSD\", \"ALGOUSD\", \"ZILUSD\", \"ICXUSD\",\n",
    "        \"KNCUSD\", \"ZENUSD\", \"THETAUSD\", \"IOSTUSD\", \"ATOMUSD\", \"MKRUSD\",\n",
    "        \"COMPUSD\", \"YFIUSD\", \"SUSHIUSD\", \"SNXUSD\", \"UMAUSD\", \"BALUSD\",\n",
    "        \"AAVEUSD\", \"UNIUSD\", \"RENBTCUSD\", \"RENUSD\", \"CRVUSD\", \"SXPUSD\",\n",
    "        \"KSMUSD\", \"OXTUSD\", \"DGBUSD\", \"LRCUSD\", \"WAVESUSD\", \"NMRUSD\",\n",
    "        \"STORJUSD\", \"KAVAUSD\", \"RLCUSD\", \"BANDUSD\", \"SCUSD\", \"ENJUSD\",\n",
    "    ]\n",
    "\n",
    "def get_financial_statements_lists():\n",
    "    api_endpoint = f\"{BASE_URL_FMP}/financial-statement-symbol-lists\"\n",
    "    params = {\"apikey\": FMP_API_KEY}\n",
    "    return make_api_request(api_endpoint, params)"
   ]
  },
  {
   "cell_type": "markdown",
   "id": "9290b481-489d-425b-b647-53db8f4fb464",
   "metadata": {},
   "source": [
    "### Splitting Data into Training and Testing Sets"
   ]
  },
  {
   "cell_type": "code",
   "execution_count": null,
   "id": "748e161f-15bc-43a4-9953-fe8fb72fffdf",
   "metadata": {},
   "outputs": [],
   "source": [
    "stock_symbol = \"AAPL\"\n",
    "stock_prices = get_historical_price_full_stock(stock_symbol)\n",
    "data = pd.DataFrame(stock_prices['historical'])\n",
    "\n",
    "# Splitting the data\n",
    "january_2023_index = data[(data['date'] < '2023-01-01')].index\n",
    "prices_after_january_2023 = data.drop(january_2023_index)\n",
    "\n",
    "# Assuming prices_after_january_2023 is your DataFrame\n",
    "prices_after_january_2023 = prices_after_january_2023.rename(columns={\n",
    "    'open': 'Open',\n",
    "    'high': 'High',\n",
    "    'low': 'Low',\n",
    "    'close': 'Close',\n",
    "    'volume': 'Volume'  # Only if you have a volume column\n",
    "})\n",
    "\n",
    "# Drop any additional columns that are not required\n",
    "required_columns = ['date', 'Open', 'High', 'Low', 'Close', 'Volume']\n",
    "prices_after_january_2023 = prices_after_january_2023[required_columns]\n",
    "\n",
    "# sort by date ascending\n",
    "prices_after_january_2023 = prices_after_january_2023.sort_values(by=['date'], ascending=True)"
   ]
  },
  {
   "cell_type": "code",
   "execution_count": null,
   "id": "8aeb0b16-d893-42c2-a343-31362522851f",
   "metadata": {},
   "outputs": [],
   "source": [
    "plt.figure(figsize=(10, 6))\n",
    "plt.title('Stock Prices')\n",
    "plt.xlabel('Date')\n",
    "plt.ylabel('Price')\n",
    "plt.plot(prices_before_january_2023['date'], prices_before_january_2023['Close'])\n",
    "plt.plot(prices_after_january_2023['date'], prices_after_january_2023['Close'])\n",
    "plt.show()"
   ]
  },
  {
   "cell_type": "markdown",
   "id": "20ca7b01-111b-4b78-bc24-69462ba7d739",
   "metadata": {},
   "source": [
    "### Applying Monte Carlo Simulation"
   ]
  },
  {
   "cell_type": "code",
   "execution_count": null,
   "id": "9a9c5dee-36ff-40fc-9707-aa42bd8a8fd5",
   "metadata": {},
   "outputs": [],
   "source": [
    "def monte_carlo_simulation(data, days, iterations):\n",
    "    if isinstance(data, pd.Series):\n",
    "        data = data.to_numpy()\n",
    "    if not isinstance(data, np.ndarray):\n",
    "        raise TypeError(\"Data must be a numpy array or pandas Series\")\n",
    "\n",
    "    log_returns = np.log(data[1:] / data[:-1])\n",
    "    mean = np.mean(log_returns)\n",
    "    variance = np.var(log_returns)\n",
    "    drift = mean - (0.5 * variance)\n",
    "    daily_volatility = np.std(log_returns)\n",
    "\n",
    "    future_prices = np.zeros((days, iterations))\n",
    "    current_price = data[-1]\n",
    "    for t in range(days):\n",
    "        shocks = drift + daily_volatility * norm.ppf(np.random.rand(iterations))\n",
    "        future_prices[t] = current_price * np.exp(shocks)\n",
    "        current_price = future_prices[t]\n",
    "    return future_prices"
   ]
  },
  {
   "cell_type": "markdown",
   "id": "65456175-7b5e-4126-8f59-7150bbb877b9",
   "metadata": {},
   "source": [
    "### Visualization"
   ]
  },
  {
   "cell_type": "code",
   "execution_count": null,
   "id": "7b2d4bca-43c6-42ba-947c-2654c4a2e403",
   "metadata": {},
   "outputs": [],
   "source": [
    "simulation_days = 364\n",
    "mc_iterations = 1000\n",
    "mc_prices = monte_carlo_simulation(prices_before_january_2023['Close'], simulation_days, mc_iterations)\n",
    "\n",
    "# Last closing price repeated for each iteration\n",
    "last_close_price = np.full((1, mc_iterations), prices_before_january_2023['Close'].iloc[-1])\n",
    "\n",
    "# Combine the last closing price with the Monte Carlo simulation prices\n",
    "mc_prices_combined = np.concatenate((last_close_price, mc_prices), axis=0)\n",
    "\n",
    "# Adjust the periods in the date range to match the number of rows in mc_prices_combined\n",
    "last_date = prices_before_january_2023['date'].iloc[-1]\n",
    "simulated_dates = pd.date_range(start=last_date, periods=simulation_days + 1)\n",
    "\n",
    "# Visualizing the Monte Carlo simulation alongside historical data\n",
    "plt.figure(figsize=(10, 6))\n",
    "\n",
    "# Plot historical data\n",
    "plt.plot(pd.to_datetime(prices_before_january_2023['date']), prices_before_january_2023['Close'], label='Before January 2023', linewidth=2)\n",
    "plt.plot(pd.to_datetime(prices_after_january_2023['date']), prices_after_january_2023['Close'], label='After January 2023', linewidth=2)\n",
    "\n",
    "# Taking average of all simulations on the 365th day\n",
    "future_price_mcmc = np.mean(mc_prices_combined[364, :])\n",
    "print(f\"Average future price after 364 days: ${future_price_mcmc:.2f}\")\n",
    "print(f\"Date of simulation: {simulated_dates[364].date()}\")\n",
    "simulated_date = simulated_dates[364].date()\n",
    "real_price = prices_after_january_2023['Close'][18]\n",
    "real_date = prices_after_january_2023['date'][18]\n",
    "print(f\"Real price on {real_date}: ${real_price:.2f}\")\n",
    "print(f\"Price difference: ${future_price_mcmc - real_price:.2f}\")\n",
    "print(f\"Price difference percentage: {(future_price_mcmc - real_price) / real_price * 100:.2f}%\")\n",
    "print(f\"Model accuracy: {100 - abs((future_price_mcmc - real_price) / real_price * 100):.2f}%\")\n",
    "\n",
    "# Plot Monte Carlo simulations mean\n",
    "plt.plot(simulated_dates, mc_prices_combined.mean(axis=1), label='Monte Carlo Mean', linewidth=3)\n",
    "\n",
    "# Plot each simulation path\n",
    "for i in range(mc_iterations):\n",
    "    plt.plot(simulated_dates, mc_prices_combined[:, i], linewidth=0.5, color='gray', alpha=0.01)\n",
    "\n",
    "plt.title('Monte Carlo Simulation of Stock Prices')\n",
    "plt.xlabel('Date')\n",
    "plt.ylabel('Price')\n",
    "plt.legend()\n",
    "plt.show()"
   ]
  }
 ],
 "metadata": {
  "kernelspec": {
   "display_name": "Python 3 (ipykernel)",
   "language": "python",
   "name": "python3"
  },
  "language_info": {
   "codemirror_mode": {
    "name": "ipython",
    "version": 3
   },
   "file_extension": ".py",
   "mimetype": "text/x-python",
   "name": "python",
   "nbconvert_exporter": "python",
   "pygments_lexer": "ipython3",
   "version": "3.12.3"
  }
 },
 "nbformat": 4,
 "nbformat_minor": 5
}

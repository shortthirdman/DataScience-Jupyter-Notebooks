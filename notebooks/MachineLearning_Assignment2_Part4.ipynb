{
 "cells": [
  {
   "cell_type": "markdown",
   "id": "a42dfe56",
   "metadata": {},
   "source": [
    "**Import the images from LFW dataset:**\n",
    "\n",
    "i) Obtain a set of image thumbnails of faces to constitute \"positive\" training samples.\n",
    "\n",
    "ii) Obtain a set of image thumbnails of non-faces to constitute \"negative\" training samples (sklearn.feature_extraction.image import PatchExtractor)\n",
    "\n",
    "iii) Extract HOG features from these training samples (feature.hog function of sklearn)\n",
    "\n",
    "iv) Train a linear SVM classifier on these samples.\n",
    "\n",
    "v) For an \"unknown\" image, pass a sliding window across the image, using the model to evaluate whether that window contains a face or not."
   ]
  },
  {
   "cell_type": "code",
   "execution_count": null,
   "id": "f8601848",
   "metadata": {},
   "outputs": [],
   "source": []
  }
 ],
 "metadata": {
  "kernelspec": {
   "display_name": "Python 3 (ipykernel)",
   "language": "python",
   "name": "python3"
  },
  "language_info": {
   "codemirror_mode": {
    "name": "ipython",
    "version": 3
   },
   "file_extension": ".py",
   "mimetype": "text/x-python",
   "name": "python",
   "nbconvert_exporter": "python",
   "pygments_lexer": "ipython3",
   "version": "3.12.3"
  }
 },
 "nbformat": 4,
 "nbformat_minor": 5
}

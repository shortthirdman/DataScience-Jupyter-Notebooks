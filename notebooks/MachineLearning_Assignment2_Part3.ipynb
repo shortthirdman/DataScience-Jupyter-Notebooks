{
 "cells": [
  {
   "cell_type": "markdown",
   "id": "d55822d3",
   "metadata": {},
   "source": [
    "**Explore the application of k-means clustering in color compression of a color image.**\n",
    "\n",
    "To explore it, read an image having multiple colors where a large number of colors will be unused, and many of the pixels in the image will have similar or even identical colors. Cluster these several colors into a 16 different clusters and show the\n",
    "compressed image."
   ]
  },
  {
   "cell_type": "code",
   "execution_count": null,
   "id": "40fd4421",
   "metadata": {},
   "outputs": [],
   "source": []
  }
 ],
 "metadata": {
  "kernelspec": {
   "display_name": "Python 3 (ipykernel)",
   "language": "python",
   "name": "python3"
  },
  "language_info": {
   "codemirror_mode": {
    "name": "ipython",
    "version": 3
   },
   "file_extension": ".py",
   "mimetype": "text/x-python",
   "name": "python",
   "nbconvert_exporter": "python",
   "pygments_lexer": "ipython3",
   "version": "3.9.7"
  }
 },
 "nbformat": 4,
 "nbformat_minor": 5
}

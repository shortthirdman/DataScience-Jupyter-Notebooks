{
 "cells": [
  {
   "cell_type": "markdown",
   "id": "85e34471-dd0a-4e4c-8270-f9e8c7f09f75",
   "metadata": {},
   "source": [
    "# Leveraging PyCryptoBot for Optimal Cryptocurrency Trading\n",
    "\n",
    "In the world of cryptocurrency trading, the ability to make informed decisions based on data analysis is crucial. One tool that has proven to be exceptionally useful in this regard is `PyCryptoBot`, a Python-based trading bot that allows users to automate their trading strategies and maximize their returns."
   ]
  },
  {
   "cell_type": "markdown",
   "id": "f7c3ba54-571d-4ea1-bc1d-c8cef2e3417a",
   "metadata": {},
   "source": [
    "## Setting Up Your Environment\n",
    "Start by importing the necessary libraries. These libraries will provide the functionality needed to interact with the Binance API, perform calculations, and visualize data."
   ]
  },
  {
   "cell_type": "code",
   "execution_count": null,
   "id": "4e45fb36-a8d6-4501-b52f-7ed35d86c633",
   "metadata": {},
   "outputs": [],
   "source": [
    "import time\n",
    "import math\n",
    "import hmac\n",
    "import hashlib\n",
    "import requests\n",
    "import numpy as np\n",
    "import pandas as pd\n",
    "import matplotlib.pyplot as plt\n",
    "from datetime import datetime"
   ]
  },
  {
   "cell_type": "markdown",
   "id": "a93f2b2a-a95a-4805-8c8e-014246e581c3",
   "metadata": {},
   "source": [
    "# Configuring Binance API\n",
    "Set up your `Binance API` credentials and other constants. Replace `<YOUR_API_KEY>` and `<YOUR_API_SECRET>` with your actual Binance API key and secret. The `ORDERS_FROM` and `ORDERS_TO` constants define the range of orders you want to analyze."
   ]
  },
  {
   "cell_type": "code",
   "execution_count": null,
   "id": "4e849603-c56c-4c5f-8bc2-dc92250fae0b",
   "metadata": {},
   "outputs": [],
   "source": [
    "BINANCE_URL = \"https://api.binance.com\"\n",
    "BINANCE_KEY = \"<YOUR_API_KEY>\"\n",
    "BINANCE_SECRET = \"<YOUR_API_SECRET>\"\n",
    "ORDERS_FROM = \"2023-01-01 00:00:00\"\n",
    "ORDERS_TO = \"2023-12-31 23:59:59\""
   ]
  },
  {
   "cell_type": "markdown",
   "id": "149047fb-3199-4092-a9d6-8eed9771adee",
   "metadata": {},
   "source": [
    "# Making API Requests\n",
    "With your environment set up and your API credentials in place, you can now start making requests to the `Binance API`."
   ]
  },
  {
   "cell_type": "code",
   "execution_count": null,
   "id": "8dc2fbac-71d0-4c9c-ac63-4af71e38306e",
   "metadata": {},
   "outputs": [],
   "source": [
    "params = {\n",
    "    \"symbol\": \"ADAUSDT\",\n",
    "    \"timestamp\": int(time.time() * 1000),\n",
    "    \"recvWindow\": 5000\n",
    "}\n",
    "query_string = \"&\".join([f\"{k}={v}\" for k, v in params.items()])\n",
    "signature = hmac.new(BINANCE_SECRET.encode(\"utf-8\"), query_string.encode(\"utf-8\"), hashlib.sha256).hexdigest()\n",
    "headers = {\"X-MBX-APIKEY\": BINANCE_KEY}\n",
    "params[\"signature\"] = signature\n",
    "resp = requests.get(f\"{BINANCE_URL}/api/v3/allOrders\", headers=headers, params=params)"
   ]
  },
  {
   "cell_type": "markdown",
   "id": "e159100b-75c4-426e-9edf-c2044f6687b1",
   "metadata": {},
   "source": [
    "# Analyzing the Data\n",
    "Once you have the data, you can start analyzing it."
   ]
  },
  {
   "cell_type": "code",
   "execution_count": null,
   "id": "ffa40dcc-1d2c-47ea-bf24-604c0684f462",
   "metadata": {},
   "outputs": [],
   "source": [
    "if resp.status_code == 200:\n",
    "    df = pd.DataFrame.from_dict(resp.json())\n",
    "    df[\"time\"] = pd.to_datetime(df[\"time\"], unit=\"ms\")\n",
    "    df = df[(df[\"time\"] >= ORDERS_FROM) & (df[\"time\"] <= ORDERS_TO)]\n",
    "    # additional transformations...\n",
    "    print(df)\n",
    "else:\n",
    "    print(f\"Failed to retrieve orders. Status code: {resp.status_code}, Message: {data['msg']}\")"
   ]
  },
  {
   "cell_type": "markdown",
   "id": "8fb38eda-63f0-4491-973d-fa856833a38b",
   "metadata": {},
   "source": [
    "## Visualizing the Data\n",
    "Visualizing your data can provide valuable insights."
   ]
  },
  {
   "cell_type": "code",
   "execution_count": null,
   "id": "5cc25cf6-0313-4d06-863b-bc5aa45c1258",
   "metadata": {},
   "outputs": [],
   "source": [
    "ddf.set_index([\"Date\"], inplace=True)\n",
    "plt.figure(figsize=(30, 10))\n",
    "plt.plot(df[\"Size\"], color=\"black\", label=\"Balance\")\n",
    "plt.ylabel(\"Balance\")\n",
    "plt.xticks(rotation=90)\n",
    "plt.title(\"ADA-GBP Balance\")\n",
    "plt.legend()\n",
    "plt.show()"
   ]
  }
 ],
 "metadata": {
  "kernelspec": {
   "display_name": "Python 3 (ipykernel)",
   "language": "python",
   "name": "python3"
  },
  "language_info": {
   "codemirror_mode": {
    "name": "ipython",
    "version": 3
   },
   "file_extension": ".py",
   "mimetype": "text/x-python",
   "name": "python",
   "nbconvert_exporter": "python",
   "pygments_lexer": "ipython3",
   "version": "3.10.4"
  }
 },
 "nbformat": 4,
 "nbformat_minor": 5
}

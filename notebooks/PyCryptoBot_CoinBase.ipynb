{
 "cells": [
  {
   "cell_type": "code",
   "execution_count": null,
   "id": "7f6b54bd-cc8b-4f70-95e7-6ca4d3898124",
   "metadata": {},
   "outputs": [],
   "source": [
    "import time\n",
    "import hmac\n",
    "import base64\n",
    "import hashlib\n",
    "import requests\n",
    "import pandas as pd\n",
    "import matplotlib.pyplot as plt"
   ]
  },
  {
   "cell_type": "code",
   "execution_count": null,
   "id": "2fe72ed1-fc84-4f09-8c8e-54b0b6a77897",
   "metadata": {},
   "outputs": [],
   "source": [
    "COINBASE_URL = \"https://api.exchange.coinbase.com\"\n",
    "COINBASE_PRO_KEY = \"<REMOVED>\"\n",
    "COINBASE_PRO_SECRET = \"<REMOVED>\"\n",
    "COINBASE_PRO_PASSPHRASE = \"<REMOVED>\"\n",
    "\n",
    "ORDERS_FROM = \"2023-01-01 00:00:00\"\n",
    "ORDERS_TO = \"2023-12-31 23:59:59\""
   ]
  },
  {
   "cell_type": "code",
   "execution_count": null,
   "id": "eeec1dea-7dcd-419f-975f-ebd96492ca94",
   "metadata": {},
   "outputs": [],
   "source": [
    "def sign_message(request) -> requests.Request:\n",
    "  timestamp = str(time.time())\n",
    "  path_url = request.url.replace(COINBASE_URL, \"\")\n",
    "  body = (request.body or b\"\").decode()\n",
    "  message = f\"{timestamp}GET{path_url}{body}\"\n",
    "  hmac_key = base64.b64decode(COINBASE_PRO_SECRET)\n",
    "  signature = hmac.new(hmac_key, message.encode(), hashlib.sha256)\n",
    "  signature_b64 = base64.b64encode(signature.digest()).decode()\n",
    "\n",
    "  request.headers.update(\n",
    "      {\n",
    "          \"CB-ACCESS-SIGN\": signature_b64,\n",
    "          \"CB-ACCESS-TIMESTAMP\": timestamp,\n",
    "          \"CB-ACCESS-KEY\"…\n"
   ]
  }
 ],
 "metadata": {
  "kernelspec": {
   "display_name": "Python 3 (ipykernel)",
   "language": "python",
   "name": "python3"
  },
  "language_info": {
   "codemirror_mode": {
    "name": "ipython",
    "version": 3
   },
   "file_extension": ".py",
   "mimetype": "text/x-python",
   "name": "python",
   "nbconvert_exporter": "python",
   "pygments_lexer": "ipython3",
   "version": "3.10.4"
  }
 },
 "nbformat": 4,
 "nbformat_minor": 5
}

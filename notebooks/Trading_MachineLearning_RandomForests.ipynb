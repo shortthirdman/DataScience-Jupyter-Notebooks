{
 "cells": [
  {
   "cell_type": "markdown",
   "id": "6b2a938f-f324-4b54-a3bd-2a948e9ebae0",
   "metadata": {},
   "source": [
    "**Machine Learning** (ML) is a subset of **Artificial Intelligence** (AI) that focuses on developing algorithms that enable computers to learn from and make decisions based on data. Rather than being explicitly programmed to perform a task, ML algorithms build a model based on sample inputs to make predictions or decisions without human intervention. This learning process involves the use of statistical techniques to identify patterns and relationships within the data, thereby enabling the machine to improve its performance over time with more data."
   ]
  },
  {
   "cell_type": "markdown",
   "id": "5fcc0eee-3afb-4e5e-9306-e2cfb34094d8",
   "metadata": {},
   "source": [
    "**Artificial Intelligence**, a term more people are familiar with, encompasses a broader range of techniques, including rule-based systems, natural language processing, and robotics, with the goal of creating systems that can perform tasks typically requiring human intelligence. **Machine Learning** is a crucial part of AI as it provides the ability to adapt and improve autonomously. In essence, while AI aims to simulate intelligent behaviour, ML is the method by which this intelligence is achieved through data-driven learning, which is perfect for trading and financial markets."
   ]
  },
  {
   "cell_type": "markdown",
   "id": "ff232635-6899-4a97-8416-2afbebeda25e",
   "metadata": {},
   "source": [
    "### Random Forest Model in Trading Technical Analysis"
   ]
  },
  {
   "cell_type": "code",
   "execution_count": null,
   "id": "492de78b-06db-4d03-88c6-01ff64e6d365",
   "metadata": {},
   "outputs": [],
   "source": [
    "!pip install -U --no-cache-dir eodhd config scikit-learn matplotlib seaborn"
   ]
  },
  {
   "cell_type": "code",
   "execution_count": null,
   "id": "fd7a17ac-05db-4fdd-b92e-b954f6fb7ab5",
   "metadata": {},
   "outputs": [],
   "source": [
    "from eodhd import APIClient\n",
    "import config as cfg\n",
    "\n",
    "api = APIClient(cfg.API_KEY)\n",
    "\n",
    "\n",
    "def get_ohlc_data():\n",
    "    # df = api.get_historical_data(\"GSPC.INDX\", \"d\", results=2000)\n",
    "    df = api.get_historical_data(\"BTC-USD.CC\", \"d\", results=2000)\n",
    "    return df\n",
    "\n",
    "if __name__ == \"__main__\":\n",
    "    df = get_ohlc_data()\n",
    "    print(df)"
   ]
  },
  {
   "cell_type": "code",
   "execution_count": null,
   "id": "4727d974-5864-487d-9428-c8e6ecb6e05b",
   "metadata": {},
   "outputs": [],
   "source": [
    "def calculate_sma(data, window):\n",
    "    return data.rolling(window=window).mean()\n",
    "\n",
    "\n",
    "def calculate_macd(data, short_window=12, long_window=26, signal_window=9):\n",
    "    short_ema = data.ewm(span=short_window, adjust=False).mean()\n",
    "    long_ema = data.ewm(span=long_window, adjust=False).mean()\n",
    "    macd = short_ema - long_ema\n",
    "    signal_line = macd.ewm(span=signal_window, adjust=False).mean()\n",
    "    return macd, signal_line\n",
    "\n",
    "\n",
    "def calculate_rsi(data, window=14):\n",
    "    delta = data.diff(1)\n",
    "    gain = (delta.where(delta > 0, 0)).rolling(window=window).mean()\n",
    "    loss = (-delta.where(delta < 0, 0)).rolling(window=window).mean()\n",
    "    rs = gain / loss\n",
    "    rsi = 100 - (100 / (1 + rs))\n",
    "    return rsi\n",
    "\n",
    "\n",
    "def calculate_vroc(volume, window=14):\n",
    "    vroc = ((volume.diff(window)) / volume.shift(window)) * 100\n",
    "    return vroc\n",
    "\n",
    "\n",
    "if __name__ == \"__main__\":\n",
    "    df = get_ohlc_data()\n",
    "\n",
    "    df[\"sma50\"] = calculate_sma(df[\"close\"], 50)\n",
    "    df[\"sma200\"] = calculate_sma(df[\"close\"], 200)\n",
    "    df[\"macd\"], df[\"signal\"] = calculate_macd(df[\"close\"])\n",
    "    df[\"rsi14\"] = calculate_rsi(df[\"close\"])\n",
    "    df[\"vroc14\"] = calculate_vroc(df[\"volume\"])\n",
    "\n",
    "    df.dropna(inplace=True)\n",
    "\n",
    "    print(df)\n"
   ]
  },
  {
   "cell_type": "code",
   "execution_count": null,
   "id": "da7eb8dd-63a8-4ec3-91d8-1ea7f973e544",
   "metadata": {},
   "outputs": [],
   "source": [
    "# include these library imports at the top of your file\n",
    "\n",
    "from sklearn.model_selection import train_test_split  \n",
    "from sklearn.ensemble import RandomForestRegressor\n",
    "from sklearn.metrics import mean_absolute_error, mean_squared_error, r2_score\n",
    "\n",
    "# put this in your main at the end\n",
    "\n",
    "features = [\n",
    "    \"open\",\n",
    "    \"high\",\n",
    "    \"low\",\n",
    "    \"volume\",\n",
    "    \"sma50\",\n",
    "    \"sma200\",\n",
    "    \"macd\",\n",
    "    \"signal\",\n",
    "    \"rsi14\",\n",
    "    \"vroc14\",\n",
    "]\n",
    "X = df[features]\n",
    "y = df[\"close\"]\n",
    "X_train, X_test, y_train, y_test = train_test_split(\n",
    "    X, y, test_size=0.2, random_state=42\n",
    ")"
   ]
  },
  {
   "cell_type": "code",
   "execution_count": null,
   "id": "1ef282be-e36a-4df1-810a-18f9fc6fbac7",
   "metadata": {},
   "outputs": [],
   "source": [
    "print(X_train.shape, X_test.shape, y_train.shape, y_test.shape)"
   ]
  },
  {
   "cell_type": "code",
   "execution_count": null,
   "id": "2990b34d-cc27-49c6-9f3c-ce6141e6bc4b",
   "metadata": {},
   "outputs": [],
   "source": [
    "rf = RandomForestRegressor(n_estimators=100, random_state=42)\n",
    "rf.fit(X_train, y_train)"
   ]
  },
  {
   "cell_type": "markdown",
   "id": "a7c1e84b-3d0a-400f-85d5-a5e2291a0fad",
   "metadata": {},
   "source": [
    "#### Making Predictions"
   ]
  },
  {
   "cell_type": "code",
   "execution_count": null,
   "id": "5b3760df-a013-4fd9-91f8-20655d5e727f",
   "metadata": {},
   "outputs": [],
   "source": [
    "y_train_pred = rf.predict(X_train)\n",
    "y_test_pred = rf.predict(X_test)"
   ]
  },
  {
   "cell_type": "markdown",
   "id": "0d50bd09-3c0e-4a2e-9695-db56d2e4f6b6",
   "metadata": {},
   "source": [
    "#### Visualisation of the Predictions"
   ]
  },
  {
   "cell_type": "code",
   "execution_count": null,
   "id": "3a62c023-5fea-44cc-999d-228d1135a292",
   "metadata": {},
   "outputs": [],
   "source": [
    "import matplotlib.pyplot as plt\n",
    "import seaborn as sns"
   ]
  },
  {
   "cell_type": "markdown",
   "id": "9d264877-8ef9-4913-a18b-fa60c18a1be0",
   "metadata": {},
   "source": [
    "#### Scatter Plot of Actual vs. Predicted Values"
   ]
  },
  {
   "cell_type": "code",
   "execution_count": null,
   "id": "f2999e26-0b41-4259-b809-fe580275726e",
   "metadata": {},
   "outputs": [],
   "source": [
    "plt.figure(figsize=(14, 7))\n",
    "\n",
    "plt.subplot(1, 2, 1)\n",
    "plt.scatter(y_train, y_train_pred, alpha=0.3)\n",
    "plt.xlabel(\"Actual Close Price (Train)\")\n",
    "plt.ylabel(\"Predicted Close Price (Train)\")\n",
    "plt.title(\"Actual vs. Predicted Close Price (Training Set)\")\n",
    "plt.plot([y_train.min(), y_train.max()], [y_train.min(), y_train.max()], \"r--\")\n",
    "\n",
    "plt.subplot(1, 2, 2)\n",
    "plt.scatter(y_test, y_test_pred, alpha=0.3)\n",
    "plt.xlabel(\"Actual Close Price (Test)\")\n",
    "plt.ylabel(\"Predicted Close Price (Test)\")\n",
    "plt.title(\"Actual vs. Predicted Close Price (Testing Set)\")\n",
    "plt.plot([y_test.min(), y_test.max()], [y_test.min(), y_test.max()], \"r--\")\n",
    "\n",
    "plt.tight_layout()\n",
    "plt.show()"
   ]
  },
  {
   "cell_type": "markdown",
   "id": "c56302cf-ecb0-48c0-b898-faf58732498e",
   "metadata": {},
   "source": [
    "#### Line Plot of Actual vs. Predicted Values Over Time"
   ]
  },
  {
   "cell_type": "code",
   "execution_count": null,
   "id": "570d8d78-d364-4203-a98f-7490ff57eb2b",
   "metadata": {},
   "outputs": [],
   "source": [
    "plt.figure(figsize=(14, 7))\n",
    "\n",
    "plt.plot(y_test.index, y_test, label=\"Actual Close Price\")\n",
    "plt.plot(y_test.index, y_test_pred, label=\"Predicted Close Price\")\n",
    "plt.xlabel(\"Date\")\n",
    "plt.ylabel(\"Close Price\")\n",
    "plt.title(\"Actual vs. Predicted Close Price Over Time (Testing Set)\")\n",
    "plt.legend()\n",
    "plt.show()"
   ]
  },
  {
   "cell_type": "markdown",
   "id": "92f4d121-5477-4602-9d10-8d92d2c3cf43",
   "metadata": {},
   "source": [
    "#### Evaluating the Performance of the Model"
   ]
  },
  {
   "cell_type": "code",
   "execution_count": null,
   "id": "7493987b-5020-4715-93be-43ae17238997",
   "metadata": {},
   "outputs": [],
   "source": [
    "train_mae = mean_absolute_error(y_train, y_train_pred)\n",
    "test_mae = mean_absolute_error(y_test, y_test_pred)\n",
    "train_mse = mean_squared_error(y_train, y_train_pred)\n",
    "test_mse = mean_squared_error(y_test, y_test_pred)\n",
    "train_r2 = r2_score(y_train, y_train_pred)\n",
    "test_r2 = r2_score(y_test, y_test_pred)\n",
    "\n",
    "print(f\"Training MAE: {train_mae}\")\n",
    "print(f\"Testing MAE: {test_mae}\")\n",
    "print(f\"Training MSE: {train_mse}\")\n",
    "print(f\"Testing MSE: {test_mse}\")\n",
    "print(f\"Training R²: {train_r2}\")\n",
    "print(f\"Testing R²: {test_r2}\")"
   ]
  },
  {
   "cell_type": "markdown",
   "id": "c134473c-2bf6-49fa-ba58-af5e12003d94",
   "metadata": {},
   "source": [
    "#### **Mean Absolute Error (MAE)**\n",
    "\n",
    "MAE measures the average absolute errors between the predicted and actual values. It provides a straightforward measure of how far off predictions are on average.\n",
    "\n",
    "A lower MAE indicates better model performance."
   ]
  },
  {
   "cell_type": "markdown",
   "id": "b383014f-4355-4d97-8507-9997faba8a52",
   "metadata": {},
   "source": [
    "#### **Mean Squared Error (MSE)**\n",
    "\n",
    "MSE measures the average squared errors between the predicted and actual values. It penalises larger errors more than MAE, making it sensitive to outliers.\n",
    "\n",
    "A lower MSE indicates better model performance."
   ]
  },
  {
   "cell_type": "markdown",
   "id": "c431984f-3543-4a92-a8ba-825cd8dbc607",
   "metadata": {},
   "source": [
    "#### **R-squared (R²)**\n",
    "\n",
    "R² measures the proportion of the variance in the dependent variable that is predictable from the independent variables. It ranges from 0 to 1, where 1 indicates perfect prediction.\n",
    "\n",
    "A higher R² indicates better model performance."
   ]
  },
  {
   "cell_type": "code",
   "execution_count": null,
   "id": "f8f83656-5d24-4800-8895-04a952372d88",
   "metadata": {},
   "outputs": [],
   "source": [
    "# update this import at the top\n",
    "\n",
    "from sklearn.model_selection import train_test_split, cross_val_score, GridSearchCV\n",
    "\n",
    "# modify the mode in your main\n",
    "\n",
    "param_grid = {\n",
    "    \"n_estimators\": [50, 100, 200],\n",
    "    \"max_depth\": [10, 20, 30, None],\n",
    "    \"min_samples_split\": [2, 5, 10],\n",
    "    \"min_samples_leaf\": [1, 2, 4],\n",
    "    \"bootstrap\": [True, False],\n",
    "}\n",
    "\n",
    "rf = RandomForestRegressor(random_state=42)\n",
    "grid_search = GridSearchCV(\n",
    "    estimator=rf, param_grid=param_grid, cv=5, n_jobs=-1, verbose=2\n",
    ")\n",
    "grid_search.fit(X_train, y_train)\n",
    "\n",
    "print(f\"Best parameters: {grid_search.best_params_}\")\n",
    "\n",
    "best_rf = grid_search.best_estimator_\n",
    "best_rf.fit(X_train, y_train)"
   ]
  },
  {
   "cell_type": "code",
   "execution_count": null,
   "id": "b3e060be-bc6b-4011-a8c9-26e2d99781bf",
   "metadata": {},
   "outputs": [],
   "source": [
    "import pandas as pd"
   ]
  },
  {
   "cell_type": "markdown",
   "id": "2b7e0f3f-cf0d-4ad3-81ca-c5df805e0c9b",
   "metadata": {},
   "source": [
    "#### Feature Importance"
   ]
  },
  {
   "cell_type": "code",
   "execution_count": null,
   "id": "0066d651-d91b-490b-a9a6-a1867664cd00",
   "metadata": {},
   "outputs": [],
   "source": [
    "feature_importances = best_rf.feature_importances_\n",
    "importance_df = pd.DataFrame(\n",
    "    {\"Feature\": features, \"Importance\": feature_importances}\n",
    ")\n",
    "\n",
    "importance_df = importance_df.sort_values(by=\"Importance\", ascending=False)\n",
    "\n",
    "plt.figure(figsize=(12, 8))\n",
    "sns.barplot(x=\"Importance\", y=\"Feature\", data=importance_df)\n",
    "plt.title(\"Feature Importances of Technical Indicators\")\n",
    "plt.show()"
   ]
  }
 ],
 "metadata": {
  "kernelspec": {
   "display_name": "Python 3 (ipykernel)",
   "language": "python",
   "name": "python3"
  },
  "language_info": {
   "codemirror_mode": {
    "name": "ipython",
    "version": 3
   },
   "file_extension": ".py",
   "mimetype": "text/x-python",
   "name": "python",
   "nbconvert_exporter": "python",
   "pygments_lexer": "ipython3",
   "version": "3.12.3"
  }
 },
 "nbformat": 4,
 "nbformat_minor": 5
}

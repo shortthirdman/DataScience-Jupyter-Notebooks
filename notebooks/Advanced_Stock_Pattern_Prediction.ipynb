{
 "cells": [
  {
   "cell_type": "markdown",
   "id": "2181eae5-76c4-45c3-8a79-a522981a2280",
   "metadata": {
    "id": "2181eae5-76c4-45c3-8a79-a522981a2280"
   },
   "source": [
    "### Advanced Stock Pattern Prediction using LSTM with the Attention Mechanism in TensorFlow"
   ]
  },
  {
   "cell_type": "code",
   "execution_count": 1,
   "id": "c96ab3f9-6fc0-4606-8d3c-71e197f4ef77",
   "metadata": {
    "colab": {
     "base_uri": "https://localhost:8080/"
    },
    "id": "c96ab3f9-6fc0-4606-8d3c-71e197f4ef77",
    "outputId": "6493cc01-6e38-466e-ccbf-01818684a255"
   },
   "outputs": [
    {
     "name": "stdout",
     "output_type": "stream",
     "text": [
      "\u001b[?25l     \u001b[90m━━━━━━━━━━━━━━━━━━━━━━━━━━━━━━━━━━━━━━━━\u001b[0m \u001b[32m0.0/75.0 kB\u001b[0m \u001b[31m?\u001b[0m eta \u001b[36m-:--:--\u001b[0m\r",
      "\u001b[2K     \u001b[91m━━━━━━━━━━━━━━━━━━━━━━━━━━━━━━━━━━━━━━\u001b[0m\u001b[90m╺\u001b[0m\u001b[90m━\u001b[0m \u001b[32m71.7/75.0 kB\u001b[0m \u001b[31m1.8 MB/s\u001b[0m eta \u001b[36m0:00:01\u001b[0m\r",
      "\u001b[2K     \u001b[90m━━━━━━━━━━━━━━━━━━━━━━━━━━━━━━━━━━━━━━━━\u001b[0m \u001b[32m75.0/75.0 kB\u001b[0m \u001b[31m1.2 MB/s\u001b[0m eta \u001b[36m0:00:00\u001b[0m\n",
      "\u001b[?25h"
     ]
    }
   ],
   "source": [
    "!pip install tensorflow -qqq\n",
    "!pip install keras -qqq\n",
    "!pip install yfinance -qqq\n",
    "!pip install mplfinance -qqq"
   ]
  },
  {
   "cell_type": "code",
   "execution_count": 2,
   "id": "2271a084-55f6-462b-b9ed-04cb5d7f0065",
   "metadata": {
    "colab": {
     "base_uri": "https://localhost:8080/"
    },
    "id": "2271a084-55f6-462b-b9ed-04cb5d7f0065",
    "outputId": "3f9309d5-5d0e-4ebc-b7ac-04b5ac5fc486"
   },
   "outputs": [
    {
     "name": "stdout",
     "output_type": "stream",
     "text": [
      "TensorFlow Version:  2.15.0\n"
     ]
    }
   ],
   "source": [
    "import tensorflow as tf\n",
    "import keras\n",
    "import yfinance as yf\n",
    "import numpy as np\n",
    "import pandas as pd\n",
    "import matplotlib.pyplot as plt\n",
    "\n",
    "# Check TensorFlow version\n",
    "print(\"TensorFlow Version: \", tf.__version__)"
   ]
  },
  {
   "cell_type": "markdown",
   "id": "24e8b4d9-8274-427f-9a27-993690606d91",
   "metadata": {
    "id": "24e8b4d9-8274-427f-9a27-993690606d91"
   },
   "source": [
    "### Data Preprocessing and Preparation"
   ]
  },
  {
   "cell_type": "code",
   "execution_count": 3,
   "id": "7bf933af-fa75-4a60-bfcc-f5316f27a414",
   "metadata": {
    "colab": {
     "base_uri": "https://localhost:8080/",
     "height": 256
    },
    "id": "7bf933af-fa75-4a60-bfcc-f5316f27a414",
    "outputId": "ff884864-dcac-4fa4-849a-c1d2647d3798"
   },
   "outputs": [
    {
     "name": "stderr",
     "output_type": "stream",
     "text": [
      "\r",
      "[*********************100%%**********************]  1 of 1 completed\n"
     ]
    },
    {
     "data": {
      "application/vnd.google.colaboratory.intrinsic+json": {
       "summary": "{\n  \"name\": \"aapl_data\",\n  \"rows\": 1006,\n  \"fields\": [\n    {\n      \"column\": \"Date\",\n      \"properties\": {\n        \"dtype\": \"date\",\n        \"min\": \"2020-01-02 00:00:00\",\n        \"max\": \"2023-12-29 00:00:00\",\n        \"num_unique_values\": 1006,\n        \"samples\": [\n          \"2023-09-08 00:00:00\",\n          \"2022-07-05 00:00:00\",\n          \"2022-09-16 00:00:00\"\n        ],\n        \"semantic_type\": \"\",\n        \"description\": \"\"\n      }\n    },\n    {\n      \"column\": \"Open\",\n      \"properties\": {\n        \"dtype\": \"number\",\n        \"std\": 33.31001776940112,\n        \"min\": 57.02000045776367,\n        \"max\": 198.02000427246094,\n        \"num_unique_values\": 956,\n        \"samples\": [\n          127.81999969482422,\n          179.47999572753906,\n          170.97000122070312\n        ],\n        \"semantic_type\": \"\",\n        \"description\": \"\"\n      }\n    },\n    {\n      \"column\": \"High\",\n      \"properties\": {\n        \"dtype\": \"number\",\n        \"std\": 33.43057053182057,\n        \"min\": 57.125,\n        \"max\": 199.6199951171875,\n        \"num_unique_values\": 956,\n        \"samples\": [\n          128.32000732421875,\n          179.69000244140625,\n          172.9499969482422\n        ],\n        \"semantic_type\": \"\",\n        \"description\": \"\"\n      }\n    },\n    {\n      \"column\": \"Low\",\n      \"properties\": {\n        \"dtype\": \"number\",\n        \"std\": 33.17919879094591,\n        \"min\": 53.15250015258789,\n        \"max\": 197.0,\n        \"num_unique_values\": 963,\n        \"samples\": [\n          162.42999267578125,\n          125.94000244140625,\n          126.20999908447266\n        ],\n        \"semantic_type\": \"\",\n        \"description\": \"\"\n      }\n    },\n    {\n      \"column\": \"Close\",\n      \"properties\": {\n        \"dtype\": \"number\",\n        \"std\": 33.31385702299744,\n        \"min\": 56.092498779296875,\n        \"max\": 198.11000061035156,\n        \"num_unique_values\": 956,\n        \"samples\": [\n          124.8499984741211,\n          178.19000244140625,\n          168.8800048828125\n        ],\n        \"semantic_type\": \"\",\n        \"description\": \"\"\n      }\n    },\n    {\n      \"column\": \"Adj Close\",\n      \"properties\": {\n        \"dtype\": \"number\",\n        \"std\": 33.66141332535926,\n        \"min\": 54.706993103027344,\n        \"max\": 197.85752868652344,\n        \"num_unique_values\": 994,\n        \"samples\": [\n          173.7590789794922,\n          174.28826904296875,\n          165.76568603515625\n        ],\n        \"semantic_type\": \"\",\n        \"description\": \"\"\n      }\n    },\n    {\n      \"column\": \"Volume\",\n      \"properties\": {\n        \"dtype\": \"number\",\n        \"std\": 54396526,\n        \"min\": 24048300,\n        \"max\": 426510000,\n        \"num_unique_values\": 1004,\n        \"samples\": [\n          58953100,\n          74064300,\n          81474200\n        ],\n        \"semantic_type\": \"\",\n        \"description\": \"\"\n      }\n    }\n  ]\n}",
       "type": "dataframe",
       "variable_name": "aapl_data"
      },
      "text/html": [
       "\n",
       "  <div id=\"df-667b7b23-0120-4326-8a03-c9056d67dddc\" class=\"colab-df-container\">\n",
       "    <div>\n",
       "<style scoped>\n",
       "    .dataframe tbody tr th:only-of-type {\n",
       "        vertical-align: middle;\n",
       "    }\n",
       "\n",
       "    .dataframe tbody tr th {\n",
       "        vertical-align: top;\n",
       "    }\n",
       "\n",
       "    .dataframe thead th {\n",
       "        text-align: right;\n",
       "    }\n",
       "</style>\n",
       "<table border=\"1\" class=\"dataframe\">\n",
       "  <thead>\n",
       "    <tr style=\"text-align: right;\">\n",
       "      <th></th>\n",
       "      <th>Open</th>\n",
       "      <th>High</th>\n",
       "      <th>Low</th>\n",
       "      <th>Close</th>\n",
       "      <th>Adj Close</th>\n",
       "      <th>Volume</th>\n",
       "    </tr>\n",
       "    <tr>\n",
       "      <th>Date</th>\n",
       "      <th></th>\n",
       "      <th></th>\n",
       "      <th></th>\n",
       "      <th></th>\n",
       "      <th></th>\n",
       "      <th></th>\n",
       "    </tr>\n",
       "  </thead>\n",
       "  <tbody>\n",
       "    <tr>\n",
       "      <th>2020-01-02</th>\n",
       "      <td>74.059998</td>\n",
       "      <td>75.150002</td>\n",
       "      <td>73.797501</td>\n",
       "      <td>75.087502</td>\n",
       "      <td>73.059418</td>\n",
       "      <td>135480400</td>\n",
       "    </tr>\n",
       "    <tr>\n",
       "      <th>2020-01-03</th>\n",
       "      <td>74.287498</td>\n",
       "      <td>75.144997</td>\n",
       "      <td>74.125000</td>\n",
       "      <td>74.357498</td>\n",
       "      <td>72.349121</td>\n",
       "      <td>146322800</td>\n",
       "    </tr>\n",
       "    <tr>\n",
       "      <th>2020-01-06</th>\n",
       "      <td>73.447502</td>\n",
       "      <td>74.989998</td>\n",
       "      <td>73.187500</td>\n",
       "      <td>74.949997</td>\n",
       "      <td>72.925652</td>\n",
       "      <td>118387200</td>\n",
       "    </tr>\n",
       "    <tr>\n",
       "      <th>2020-01-07</th>\n",
       "      <td>74.959999</td>\n",
       "      <td>75.224998</td>\n",
       "      <td>74.370003</td>\n",
       "      <td>74.597504</td>\n",
       "      <td>72.582657</td>\n",
       "      <td>108872000</td>\n",
       "    </tr>\n",
       "    <tr>\n",
       "      <th>2020-01-08</th>\n",
       "      <td>74.290001</td>\n",
       "      <td>76.110001</td>\n",
       "      <td>74.290001</td>\n",
       "      <td>75.797501</td>\n",
       "      <td>73.750244</td>\n",
       "      <td>132079200</td>\n",
       "    </tr>\n",
       "  </tbody>\n",
       "</table>\n",
       "</div>\n",
       "    <div class=\"colab-df-buttons\">\n",
       "\n",
       "  <div class=\"colab-df-container\">\n",
       "    <button class=\"colab-df-convert\" onclick=\"convertToInteractive('df-667b7b23-0120-4326-8a03-c9056d67dddc')\"\n",
       "            title=\"Convert this dataframe to an interactive table.\"\n",
       "            style=\"display:none;\">\n",
       "\n",
       "  <svg xmlns=\"http://www.w3.org/2000/svg\" height=\"24px\" viewBox=\"0 -960 960 960\">\n",
       "    <path d=\"M120-120v-720h720v720H120Zm60-500h600v-160H180v160Zm220 220h160v-160H400v160Zm0 220h160v-160H400v160ZM180-400h160v-160H180v160Zm440 0h160v-160H620v160ZM180-180h160v-160H180v160Zm440 0h160v-160H620v160Z\"/>\n",
       "  </svg>\n",
       "    </button>\n",
       "\n",
       "  <style>\n",
       "    .colab-df-container {\n",
       "      display:flex;\n",
       "      gap: 12px;\n",
       "    }\n",
       "\n",
       "    .colab-df-convert {\n",
       "      background-color: #E8F0FE;\n",
       "      border: none;\n",
       "      border-radius: 50%;\n",
       "      cursor: pointer;\n",
       "      display: none;\n",
       "      fill: #1967D2;\n",
       "      height: 32px;\n",
       "      padding: 0 0 0 0;\n",
       "      width: 32px;\n",
       "    }\n",
       "\n",
       "    .colab-df-convert:hover {\n",
       "      background-color: #E2EBFA;\n",
       "      box-shadow: 0px 1px 2px rgba(60, 64, 67, 0.3), 0px 1px 3px 1px rgba(60, 64, 67, 0.15);\n",
       "      fill: #174EA6;\n",
       "    }\n",
       "\n",
       "    .colab-df-buttons div {\n",
       "      margin-bottom: 4px;\n",
       "    }\n",
       "\n",
       "    [theme=dark] .colab-df-convert {\n",
       "      background-color: #3B4455;\n",
       "      fill: #D2E3FC;\n",
       "    }\n",
       "\n",
       "    [theme=dark] .colab-df-convert:hover {\n",
       "      background-color: #434B5C;\n",
       "      box-shadow: 0px 1px 3px 1px rgba(0, 0, 0, 0.15);\n",
       "      filter: drop-shadow(0px 1px 2px rgba(0, 0, 0, 0.3));\n",
       "      fill: #FFFFFF;\n",
       "    }\n",
       "  </style>\n",
       "\n",
       "    <script>\n",
       "      const buttonEl =\n",
       "        document.querySelector('#df-667b7b23-0120-4326-8a03-c9056d67dddc button.colab-df-convert');\n",
       "      buttonEl.style.display =\n",
       "        google.colab.kernel.accessAllowed ? 'block' : 'none';\n",
       "\n",
       "      async function convertToInteractive(key) {\n",
       "        const element = document.querySelector('#df-667b7b23-0120-4326-8a03-c9056d67dddc');\n",
       "        const dataTable =\n",
       "          await google.colab.kernel.invokeFunction('convertToInteractive',\n",
       "                                                    [key], {});\n",
       "        if (!dataTable) return;\n",
       "\n",
       "        const docLinkHtml = 'Like what you see? Visit the ' +\n",
       "          '<a target=\"_blank\" href=https://colab.research.google.com/notebooks/data_table.ipynb>data table notebook</a>'\n",
       "          + ' to learn more about interactive tables.';\n",
       "        element.innerHTML = '';\n",
       "        dataTable['output_type'] = 'display_data';\n",
       "        await google.colab.output.renderOutput(dataTable, element);\n",
       "        const docLink = document.createElement('div');\n",
       "        docLink.innerHTML = docLinkHtml;\n",
       "        element.appendChild(docLink);\n",
       "      }\n",
       "    </script>\n",
       "  </div>\n",
       "\n",
       "\n",
       "<div id=\"df-5a7bf8f0-f624-4142-95d4-bd7b3427c154\">\n",
       "  <button class=\"colab-df-quickchart\" onclick=\"quickchart('df-5a7bf8f0-f624-4142-95d4-bd7b3427c154')\"\n",
       "            title=\"Suggest charts\"\n",
       "            style=\"display:none;\">\n",
       "\n",
       "<svg xmlns=\"http://www.w3.org/2000/svg\" height=\"24px\"viewBox=\"0 0 24 24\"\n",
       "     width=\"24px\">\n",
       "    <g>\n",
       "        <path d=\"M19 3H5c-1.1 0-2 .9-2 2v14c0 1.1.9 2 2 2h14c1.1 0 2-.9 2-2V5c0-1.1-.9-2-2-2zM9 17H7v-7h2v7zm4 0h-2V7h2v10zm4 0h-2v-4h2v4z\"/>\n",
       "    </g>\n",
       "</svg>\n",
       "  </button>\n",
       "\n",
       "<style>\n",
       "  .colab-df-quickchart {\n",
       "      --bg-color: #E8F0FE;\n",
       "      --fill-color: #1967D2;\n",
       "      --hover-bg-color: #E2EBFA;\n",
       "      --hover-fill-color: #174EA6;\n",
       "      --disabled-fill-color: #AAA;\n",
       "      --disabled-bg-color: #DDD;\n",
       "  }\n",
       "\n",
       "  [theme=dark] .colab-df-quickchart {\n",
       "      --bg-color: #3B4455;\n",
       "      --fill-color: #D2E3FC;\n",
       "      --hover-bg-color: #434B5C;\n",
       "      --hover-fill-color: #FFFFFF;\n",
       "      --disabled-bg-color: #3B4455;\n",
       "      --disabled-fill-color: #666;\n",
       "  }\n",
       "\n",
       "  .colab-df-quickchart {\n",
       "    background-color: var(--bg-color);\n",
       "    border: none;\n",
       "    border-radius: 50%;\n",
       "    cursor: pointer;\n",
       "    display: none;\n",
       "    fill: var(--fill-color);\n",
       "    height: 32px;\n",
       "    padding: 0;\n",
       "    width: 32px;\n",
       "  }\n",
       "\n",
       "  .colab-df-quickchart:hover {\n",
       "    background-color: var(--hover-bg-color);\n",
       "    box-shadow: 0 1px 2px rgba(60, 64, 67, 0.3), 0 1px 3px 1px rgba(60, 64, 67, 0.15);\n",
       "    fill: var(--button-hover-fill-color);\n",
       "  }\n",
       "\n",
       "  .colab-df-quickchart-complete:disabled,\n",
       "  .colab-df-quickchart-complete:disabled:hover {\n",
       "    background-color: var(--disabled-bg-color);\n",
       "    fill: var(--disabled-fill-color);\n",
       "    box-shadow: none;\n",
       "  }\n",
       "\n",
       "  .colab-df-spinner {\n",
       "    border: 2px solid var(--fill-color);\n",
       "    border-color: transparent;\n",
       "    border-bottom-color: var(--fill-color);\n",
       "    animation:\n",
       "      spin 1s steps(1) infinite;\n",
       "  }\n",
       "\n",
       "  @keyframes spin {\n",
       "    0% {\n",
       "      border-color: transparent;\n",
       "      border-bottom-color: var(--fill-color);\n",
       "      border-left-color: var(--fill-color);\n",
       "    }\n",
       "    20% {\n",
       "      border-color: transparent;\n",
       "      border-left-color: var(--fill-color);\n",
       "      border-top-color: var(--fill-color);\n",
       "    }\n",
       "    30% {\n",
       "      border-color: transparent;\n",
       "      border-left-color: var(--fill-color);\n",
       "      border-top-color: var(--fill-color);\n",
       "      border-right-color: var(--fill-color);\n",
       "    }\n",
       "    40% {\n",
       "      border-color: transparent;\n",
       "      border-right-color: var(--fill-color);\n",
       "      border-top-color: var(--fill-color);\n",
       "    }\n",
       "    60% {\n",
       "      border-color: transparent;\n",
       "      border-right-color: var(--fill-color);\n",
       "    }\n",
       "    80% {\n",
       "      border-color: transparent;\n",
       "      border-right-color: var(--fill-color);\n",
       "      border-bottom-color: var(--fill-color);\n",
       "    }\n",
       "    90% {\n",
       "      border-color: transparent;\n",
       "      border-bottom-color: var(--fill-color);\n",
       "    }\n",
       "  }\n",
       "</style>\n",
       "\n",
       "  <script>\n",
       "    async function quickchart(key) {\n",
       "      const quickchartButtonEl =\n",
       "        document.querySelector('#' + key + ' button');\n",
       "      quickchartButtonEl.disabled = true;  // To prevent multiple clicks.\n",
       "      quickchartButtonEl.classList.add('colab-df-spinner');\n",
       "      try {\n",
       "        const charts = await google.colab.kernel.invokeFunction(\n",
       "            'suggestCharts', [key], {});\n",
       "      } catch (error) {\n",
       "        console.error('Error during call to suggestCharts:', error);\n",
       "      }\n",
       "      quickchartButtonEl.classList.remove('colab-df-spinner');\n",
       "      quickchartButtonEl.classList.add('colab-df-quickchart-complete');\n",
       "    }\n",
       "    (() => {\n",
       "      let quickchartButtonEl =\n",
       "        document.querySelector('#df-5a7bf8f0-f624-4142-95d4-bd7b3427c154 button');\n",
       "      quickchartButtonEl.style.display =\n",
       "        google.colab.kernel.accessAllowed ? 'block' : 'none';\n",
       "    })();\n",
       "  </script>\n",
       "</div>\n",
       "\n",
       "    </div>\n",
       "  </div>\n"
      ],
      "text/plain": [
       "                 Open       High        Low      Close  Adj Close     Volume\n",
       "Date                                                                        \n",
       "2020-01-02  74.059998  75.150002  73.797501  75.087502  73.059418  135480400\n",
       "2020-01-03  74.287498  75.144997  74.125000  74.357498  72.349121  146322800\n",
       "2020-01-06  73.447502  74.989998  73.187500  74.949997  72.925652  118387200\n",
       "2020-01-07  74.959999  75.224998  74.370003  74.597504  72.582657  108872000\n",
       "2020-01-08  74.290001  76.110001  74.290001  75.797501  73.750244  132079200"
      ]
     },
     "execution_count": 3,
     "metadata": {},
     "output_type": "execute_result"
    }
   ],
   "source": [
    "# Fetch AAPL data\n",
    "aapl_data = yf.download('AAPL', start='2020-01-01', end='2024-01-01')\n",
    "\n",
    "# Display the first few rows of the dataframe\n",
    "aapl_data.head()"
   ]
  },
  {
   "cell_type": "code",
   "execution_count": 4,
   "id": "0b1464c8-0a2a-40ab-8038-2ec2eae87efb",
   "metadata": {
    "id": "0b1464c8-0a2a-40ab-8038-2ec2eae87efb"
   },
   "outputs": [],
   "source": [
    "# Checking for missing values\n",
    "aapl_data.isnull().sum()\n",
    "\n",
    "# Filling missing values, if any\n",
    "aapl_data.fillna(method='ffill', inplace=True)"
   ]
  },
  {
   "cell_type": "markdown",
   "id": "462e5059-5afe-4e10-99e9-9c923145ba88",
   "metadata": {
    "id": "462e5059-5afe-4e10-99e9-9c923145ba88"
   },
   "source": [
    "### Normalization"
   ]
  },
  {
   "cell_type": "code",
   "execution_count": 5,
   "id": "8490a871-ebc3-45b8-beb5-208413cf5bfd",
   "metadata": {
    "id": "8490a871-ebc3-45b8-beb5-208413cf5bfd"
   },
   "outputs": [],
   "source": [
    "# Applying min-max scaling\n",
    "from sklearn.preprocessing import MinMaxScaler\n",
    "\n",
    "scaler = MinMaxScaler(feature_range=(0,1))\n",
    "aapl_data_scaled = scaler.fit_transform(aapl_data['Close'].values.reshape(-1,1))"
   ]
  },
  {
   "cell_type": "markdown",
   "id": "76820d72-53df-4b04-8748-3556673c679c",
   "metadata": {
    "id": "76820d72-53df-4b04-8748-3556673c679c"
   },
   "source": [
    "### Creating Sequences"
   ]
  },
  {
   "cell_type": "markdown",
   "id": "82475409-5365-4535-905e-96ca305fed62",
   "metadata": {
    "id": "82475409-5365-4535-905e-96ca305fed62"
   },
   "source": [
    "LSTM models require input to be in a sequence format"
   ]
  },
  {
   "cell_type": "code",
   "execution_count": 6,
   "id": "220f013b-8847-413b-8ca6-258b4c21e6a1",
   "metadata": {
    "id": "220f013b-8847-413b-8ca6-258b4c21e6a1"
   },
   "outputs": [],
   "source": [
    "# Defining sequence length\n",
    "\n",
    "X = []\n",
    "y = []\n",
    "\n",
    "for i in range(60, len(aapl_data_scaled)):\n",
    "    X.append(aapl_data_scaled[i-60:i, 0])\n",
    "    y.append(aapl_data_scaled[i, 0])"
   ]
  },
  {
   "cell_type": "markdown",
   "id": "fa4687c0-7984-4cfc-81a2-60a6c0e220fa",
   "metadata": {
    "id": "fa4687c0-7984-4cfc-81a2-60a6c0e220fa"
   },
   "source": [
    "### Train-Test Split"
   ]
  },
  {
   "cell_type": "code",
   "execution_count": 7,
   "id": "a8202bd8-eafe-4f4f-9bae-09ebb161c91b",
   "metadata": {
    "id": "a8202bd8-eafe-4f4f-9bae-09ebb161c91b"
   },
   "outputs": [],
   "source": [
    "# Defining Split Ratio: Typically, 80% of data is used for training and 20% for testing.\n",
    "\n",
    "train_size = int(len(X) * 0.8)\n",
    "test_size = len(X) - train_size\n",
    "\n",
    "X_train, X_test = X[:train_size], X[train_size:]\n",
    "y_train, y_test = y[:train_size], y[train_size:]"
   ]
  },
  {
   "cell_type": "markdown",
   "id": "baa1571a-bc52-4040-94c6-c43725622971",
   "metadata": {
    "id": "baa1571a-bc52-4040-94c6-c43725622971"
   },
   "source": [
    "### Reshaping Data for LSTM"
   ]
  },
  {
   "cell_type": "code",
   "execution_count": 8,
   "id": "d5eaa511-df73-4269-881e-71d8ef46da20",
   "metadata": {
    "id": "d5eaa511-df73-4269-881e-71d8ef46da20"
   },
   "outputs": [],
   "source": [
    "X_train, y_train = np.array(X_train), np.array(y_train)\n",
    "X_train = np.reshape(X_train, (X_train.shape[0], X_train.shape[1], 1))"
   ]
  },
  {
   "cell_type": "markdown",
   "id": "eff63eaa-4ab8-4be2-bd79-51e3424e5bff",
   "metadata": {
    "id": "eff63eaa-4ab8-4be2-bd79-51e3424e5bff"
   },
   "source": [
    "### Building the LSTM with Attention Model"
   ]
  },
  {
   "cell_type": "code",
   "execution_count": 9,
   "id": "a577727e-1de7-4dca-983c-9f50ccaab0c0",
   "metadata": {
    "id": "a577727e-1de7-4dca-983c-9f50ccaab0c0"
   },
   "outputs": [],
   "source": [
    "# Creating LSTM Layers\n",
    "\n",
    "from keras.models import Sequential\n",
    "from keras.layers import LSTM, Dense, Dropout, AdditiveAttention, Permute, Reshape, Multiply\n",
    "\n",
    "model = Sequential()\n",
    "\n",
    "# Adding LSTM layers with return_sequences=True\n",
    "model.add(LSTM(units=50, return_sequences=True, input_shape=(X_train.shape[1], 1)))\n",
    "model.add(LSTM(units=50, return_sequences=True))"
   ]
  },
  {
   "cell_type": "code",
   "execution_count": 10,
   "id": "0963bd73-46ff-459e-9530-d0e8b0dc8fe0",
   "metadata": {
    "id": "0963bd73-46ff-459e-9530-d0e8b0dc8fe0"
   },
   "outputs": [],
   "source": [
    "# Integrating the Attention Mechanism: Enhance the model’s ability to focus on relevant time steps\n",
    "\n",
    "# Adding self-attention mechanism\n",
    "# The attention mechanism\n",
    "attention = AdditiveAttention(name='attention_weight')\n",
    "# Permute and reshape for compatibility\n",
    "model.add(Permute((2, 1)))\n",
    "model.add(Reshape((-1, X_train.shape[1])))\n",
    "attention_result = attention([model.output, model.output])\n",
    "multiply_layer = Multiply()([model.output, attention_result])\n",
    "# Return to original shape\n",
    "model.add(Permute((2, 1)))\n",
    "model.add(Reshape((-1, 50)))\n",
    "\n",
    "# Adding a Flatten layer before the final Dense layer\n",
    "model.add(tf.keras.layers.Flatten())\n",
    "\n",
    "# Final Dense layer\n",
    "model.add(Dense(1))\n",
    "\n",
    "# Compile the model\n",
    "# model.compile(optimizer='adam', loss='mean_squared_error')\n",
    "\n",
    "# Train the model\n",
    "# history = model.fit(X_train, y_train, epochs=100, batch_size=25, validation_split=0.2)"
   ]
  },
  {
   "cell_type": "code",
   "execution_count": 11,
   "id": "0850b5dd-0a30-4d9e-aaa5-5956e6e50286",
   "metadata": {
    "id": "0850b5dd-0a30-4d9e-aaa5-5956e6e50286"
   },
   "outputs": [],
   "source": [
    "# Optimizing the Model: To enhance the model’s performance and reduce the risk of overfitting\n",
    "\n",
    "from keras.layers import BatchNormalization\n",
    "\n",
    "# Adding Dropout and Batch Normalization\n",
    "model.add(Dropout(0.2))\n",
    "model.add(BatchNormalization())"
   ]
  },
  {
   "cell_type": "markdown",
   "id": "4b9cfeb0-f407-4f92-870b-fd5da7ca5946",
   "metadata": {
    "id": "4b9cfeb0-f407-4f92-870b-fd5da7ca5946"
   },
   "source": [
    "**Dropout** helps in preventing overfitting by randomly setting a fraction of the input units to 0 at each update during training, and **Batch Normalization** stabilizes the learning process."
   ]
  },
  {
   "cell_type": "markdown",
   "id": "222da509-04e0-4d35-a073-fa8e89d05c6c",
   "metadata": {
    "id": "222da509-04e0-4d35-a073-fa8e89d05c6c"
   },
   "source": [
    "### Model Compilation"
   ]
  },
  {
   "cell_type": "code",
   "execution_count": 12,
   "id": "857a1f91-b0ea-4db4-b546-79465bd8a3a3",
   "metadata": {
    "id": "857a1f91-b0ea-4db4-b546-79465bd8a3a3"
   },
   "outputs": [],
   "source": [
    "model.compile(optimizer='adam', loss='mean_squared_error')"
   ]
  },
  {
   "cell_type": "markdown",
   "id": "4a470cd9-d5be-41a4-a0ab-c48b253b1516",
   "metadata": {
    "id": "4a470cd9-d5be-41a4-a0ab-c48b253b1516"
   },
   "source": [
    "It’s beneficial to view the summary of the model to understand its structure and number of parameters."
   ]
  },
  {
   "cell_type": "code",
   "execution_count": 13,
   "id": "ff61f2ae-1f26-451f-9925-7caa1826100c",
   "metadata": {
    "colab": {
     "base_uri": "https://localhost:8080/"
    },
    "id": "ff61f2ae-1f26-451f-9925-7caa1826100c",
    "outputId": "8900e629-f8cf-4539-a73b-425204037e19"
   },
   "outputs": [
    {
     "name": "stdout",
     "output_type": "stream",
     "text": [
      "Model: \"sequential\"\n",
      "_________________________________________________________________\n",
      " Layer (type)                Output Shape              Param #   \n",
      "=================================================================\n",
      " lstm (LSTM)                 (None, 60, 50)            10400     \n",
      "                                                                 \n",
      " lstm_1 (LSTM)               (None, 60, 50)            20200     \n",
      "                                                                 \n",
      " permute (Permute)           (None, 50, 60)            0         \n",
      "                                                                 \n",
      " reshape (Reshape)           (None, 50, 60)            0         \n",
      "                                                                 \n",
      " permute_1 (Permute)         (None, 60, 50)            0         \n",
      "                                                                 \n",
      " reshape_1 (Reshape)         (None, 60, 50)            0         \n",
      "                                                                 \n",
      " flatten (Flatten)           (None, 3000)              0         \n",
      "                                                                 \n",
      " dense (Dense)               (None, 1)                 3001      \n",
      "                                                                 \n",
      " dropout (Dropout)           (None, 1)                 0         \n",
      "                                                                 \n",
      " batch_normalization (Batch  (None, 1)                 4         \n",
      " Normalization)                                                  \n",
      "                                                                 \n",
      "=================================================================\n",
      "Total params: 33605 (131.27 KB)\n",
      "Trainable params: 33603 (131.26 KB)\n",
      "Non-trainable params: 2 (8.00 Byte)\n",
      "_________________________________________________________________\n"
     ]
    }
   ],
   "source": [
    "# Model Summary\n",
    "\n",
    "model.summary()"
   ]
  },
  {
   "cell_type": "markdown",
   "id": "8706daa7-a59c-421d-a00c-fc7420c77399",
   "metadata": {
    "id": "8706daa7-a59c-421d-a00c-fc7420c77399"
   },
   "source": [
    "### Training the Model"
   ]
  },
  {
   "cell_type": "code",
   "execution_count": 14,
   "id": "4c5de51c-8b2b-4141-90a4-791306767d83",
   "metadata": {
    "colab": {
     "base_uri": "https://localhost:8080/"
    },
    "id": "4c5de51c-8b2b-4141-90a4-791306767d83",
    "outputId": "71dd510b-1421-4e04-fdcb-d9664687b3cb"
   },
   "outputs": [
    {
     "name": "stdout",
     "output_type": "stream",
     "text": [
      "Epoch 1/100\n",
      "25/25 [==============================] - 9s 189ms/step - loss: 0.6559 - val_loss: 0.3719\n",
      "Epoch 2/100\n",
      "25/25 [==============================] - 2s 82ms/step - loss: 0.2814 - val_loss: 0.3510\n",
      "Epoch 3/100\n",
      "25/25 [==============================] - 1s 60ms/step - loss: 0.2471 - val_loss: 0.3203\n",
      "Epoch 4/100\n",
      "25/25 [==============================] - 1s 59ms/step - loss: 0.2266 - val_loss: 0.2964\n",
      "Epoch 5/100\n",
      "25/25 [==============================] - 1s 59ms/step - loss: 0.2065 - val_loss: 0.2700\n",
      "Epoch 6/100\n",
      "25/25 [==============================] - 1s 60ms/step - loss: 0.1884 - val_loss: 0.2472\n",
      "Epoch 7/100\n",
      "25/25 [==============================] - 1s 59ms/step - loss: 0.1675 - val_loss: 0.2294\n",
      "Epoch 8/100\n",
      "25/25 [==============================] - 2s 62ms/step - loss: 0.1511 - val_loss: 0.2053\n",
      "Epoch 9/100\n",
      "25/25 [==============================] - 2s 89ms/step - loss: 0.1378 - val_loss: 0.1839\n",
      "Epoch 10/100\n",
      "25/25 [==============================] - 2s 64ms/step - loss: 0.1206 - val_loss: 0.1683\n",
      "Epoch 11/100\n",
      "25/25 [==============================] - 1s 59ms/step - loss: 0.1105 - val_loss: 0.1571\n",
      "Epoch 12/100\n",
      "25/25 [==============================] - 1s 59ms/step - loss: 0.0971 - val_loss: 0.1448\n",
      "Epoch 13/100\n",
      "25/25 [==============================] - 1s 59ms/step - loss: 0.0873 - val_loss: 0.1325\n",
      "Epoch 14/100\n",
      "25/25 [==============================] - 1s 60ms/step - loss: 0.0790 - val_loss: 0.1053\n",
      "Epoch 15/100\n",
      "25/25 [==============================] - 1s 59ms/step - loss: 0.0683 - val_loss: 0.1025\n",
      "Epoch 16/100\n",
      "25/25 [==============================] - 2s 61ms/step - loss: 0.0614 - val_loss: 0.0863\n",
      "Epoch 17/100\n",
      "25/25 [==============================] - 2s 87ms/step - loss: 0.0530 - val_loss: 0.0882\n",
      "Epoch 18/100\n",
      "25/25 [==============================] - 2s 69ms/step - loss: 0.0499 - val_loss: 0.0605\n",
      "Epoch 19/100\n",
      "25/25 [==============================] - 1s 60ms/step - loss: 0.0463 - val_loss: 0.0453\n",
      "Epoch 20/100\n",
      "25/25 [==============================] - 2s 61ms/step - loss: 0.0424 - val_loss: 0.0615\n",
      "Epoch 21/100\n",
      "25/25 [==============================] - 2s 89ms/step - loss: 0.0354 - val_loss: 0.0472\n",
      "Epoch 22/100\n",
      "25/25 [==============================] - 2s 71ms/step - loss: 0.0305 - val_loss: 0.0352\n",
      "Epoch 23/100\n",
      "25/25 [==============================] - 1s 59ms/step - loss: 0.0286 - val_loss: 0.0404\n",
      "Epoch 24/100\n",
      "25/25 [==============================] - 2s 83ms/step - loss: 0.0243 - val_loss: 0.0196\n",
      "Epoch 25/100\n",
      "25/25 [==============================] - 2s 77ms/step - loss: 0.0250 - val_loss: 0.0175\n",
      "Epoch 26/100\n",
      "25/25 [==============================] - 1s 59ms/step - loss: 0.0221 - val_loss: 0.0204\n",
      "Epoch 27/100\n",
      "25/25 [==============================] - 1s 59ms/step - loss: 0.0179 - val_loss: 0.0071\n",
      "Epoch 28/100\n",
      "25/25 [==============================] - 1s 59ms/step - loss: 0.0189 - val_loss: 0.0094\n",
      "Epoch 29/100\n",
      "25/25 [==============================] - 1s 59ms/step - loss: 0.0157 - val_loss: 0.0147\n",
      "Epoch 30/100\n",
      "25/25 [==============================] - 1s 60ms/step - loss: 0.0150 - val_loss: 0.0055\n",
      "Epoch 31/100\n",
      "25/25 [==============================] - 1s 59ms/step - loss: 0.0154 - val_loss: 0.0079\n",
      "Epoch 32/100\n",
      "25/25 [==============================] - 2s 78ms/step - loss: 0.0149 - val_loss: 0.0043\n",
      "Epoch 33/100\n",
      "25/25 [==============================] - 2s 80ms/step - loss: 0.0122 - val_loss: 0.0015\n",
      "Epoch 34/100\n",
      "25/25 [==============================] - 1s 58ms/step - loss: 0.0107 - val_loss: 0.0049\n",
      "Epoch 35/100\n",
      "25/25 [==============================] - 1s 59ms/step - loss: 0.0113 - val_loss: 0.0012\n",
      "Epoch 36/100\n",
      "25/25 [==============================] - 1s 60ms/step - loss: 0.0112 - val_loss: 0.0024\n",
      "Epoch 37/100\n",
      "25/25 [==============================] - 1s 59ms/step - loss: 0.0125 - val_loss: 0.0092\n",
      "Epoch 38/100\n",
      "25/25 [==============================] - 1s 59ms/step - loss: 0.0100 - val_loss: 0.0041\n",
      "Epoch 39/100\n",
      "25/25 [==============================] - 1s 58ms/step - loss: 0.0114 - val_loss: 0.0012\n",
      "Epoch 40/100\n",
      "25/25 [==============================] - 2s 75ms/step - loss: 0.0098 - val_loss: 0.0019\n",
      "Epoch 41/100\n",
      "25/25 [==============================] - 2s 85ms/step - loss: 0.0138 - val_loss: 0.0012\n",
      "Epoch 42/100\n",
      "25/25 [==============================] - 1s 59ms/step - loss: 0.0119 - val_loss: 0.0086\n",
      "Epoch 43/100\n",
      "25/25 [==============================] - 1s 59ms/step - loss: 0.0140 - val_loss: 0.0059\n",
      "Epoch 44/100\n",
      "25/25 [==============================] - 1s 60ms/step - loss: 0.0108 - val_loss: 0.0097\n",
      "Epoch 45/100\n",
      "25/25 [==============================] - 1s 59ms/step - loss: 0.0111 - val_loss: 0.0070\n",
      "Epoch 46/100\n",
      "25/25 [==============================] - 1s 59ms/step - loss: 0.0105 - val_loss: 0.0010\n",
      "Epoch 47/100\n",
      "25/25 [==============================] - 1s 59ms/step - loss: 0.0093 - val_loss: 0.0032\n",
      "Epoch 48/100\n",
      "25/25 [==============================] - 2s 71ms/step - loss: 0.0109 - val_loss: 0.0036\n",
      "Epoch 49/100\n",
      "25/25 [==============================] - 2s 89ms/step - loss: 0.0101 - val_loss: 0.0031\n",
      "Epoch 50/100\n",
      "25/25 [==============================] - 1s 59ms/step - loss: 0.0106 - val_loss: 0.0036\n",
      "Epoch 51/100\n",
      "25/25 [==============================] - 1s 59ms/step - loss: 0.0098 - val_loss: 0.0016\n",
      "Epoch 52/100\n",
      "25/25 [==============================] - 1s 60ms/step - loss: 0.0091 - val_loss: 0.0013\n",
      "Epoch 53/100\n",
      "25/25 [==============================] - 1s 59ms/step - loss: 0.0098 - val_loss: 0.0017\n",
      "Epoch 54/100\n",
      "25/25 [==============================] - 1s 60ms/step - loss: 0.0104 - val_loss: 0.0039\n",
      "Epoch 55/100\n",
      "25/25 [==============================] - 1s 60ms/step - loss: 0.0107 - val_loss: 0.0035\n",
      "Epoch 56/100\n",
      "25/25 [==============================] - 2s 70ms/step - loss: 0.0114 - val_loss: 0.0020\n",
      "Epoch 57/100\n",
      "25/25 [==============================] - 2s 88ms/step - loss: 0.0096 - val_loss: 0.0015\n",
      "Epoch 58/100\n",
      "25/25 [==============================] - 1s 59ms/step - loss: 0.0114 - val_loss: 0.0010\n",
      "Epoch 59/100\n",
      "25/25 [==============================] - 1s 59ms/step - loss: 0.0110 - val_loss: 0.0027\n",
      "Epoch 60/100\n",
      "25/25 [==============================] - 1s 59ms/step - loss: 0.0100 - val_loss: 0.0069\n",
      "Epoch 61/100\n",
      "25/25 [==============================] - 1s 60ms/step - loss: 0.0099 - val_loss: 0.0014\n",
      "Epoch 62/100\n",
      "25/25 [==============================] - 2s 60ms/step - loss: 0.0098 - val_loss: 9.8189e-04\n",
      "Epoch 63/100\n",
      "25/25 [==============================] - 2s 60ms/step - loss: 0.0091 - val_loss: 0.0022\n",
      "Epoch 64/100\n",
      "25/25 [==============================] - 2s 66ms/step - loss: 0.0092 - val_loss: 0.0011\n",
      "Epoch 65/100\n",
      "25/25 [==============================] - 2s 93ms/step - loss: 0.0116 - val_loss: 0.0041\n",
      "Epoch 66/100\n",
      "25/25 [==============================] - 1s 59ms/step - loss: 0.0095 - val_loss: 0.0012\n",
      "Epoch 67/100\n",
      "25/25 [==============================] - 1s 59ms/step - loss: 0.0094 - val_loss: 0.0019\n",
      "Epoch 68/100\n",
      "25/25 [==============================] - 2s 61ms/step - loss: 0.0095 - val_loss: 0.0247\n",
      "Epoch 69/100\n",
      "25/25 [==============================] - 1s 60ms/step - loss: 0.0125 - val_loss: 9.7674e-04\n",
      "Epoch 70/100\n",
      "25/25 [==============================] - 1s 60ms/step - loss: 0.0108 - val_loss: 0.0077\n",
      "Epoch 71/100\n",
      "25/25 [==============================] - 1s 60ms/step - loss: 0.0109 - val_loss: 0.0024\n",
      "Epoch 72/100\n",
      "25/25 [==============================] - 2s 67ms/step - loss: 0.0117 - val_loss: 0.0033\n",
      "Epoch 73/100\n",
      "25/25 [==============================] - 2s 87ms/step - loss: 0.0116 - val_loss: 0.0187\n",
      "Epoch 74/100\n",
      "25/25 [==============================] - 2s 62ms/step - loss: 0.0115 - val_loss: 0.0017\n",
      "Epoch 75/100\n",
      "25/25 [==============================] - 2s 61ms/step - loss: 0.0106 - val_loss: 0.0014\n",
      "Epoch 76/100\n",
      "25/25 [==============================] - 1s 60ms/step - loss: 0.0104 - val_loss: 0.0022\n",
      "Epoch 77/100\n",
      "25/25 [==============================] - 1s 59ms/step - loss: 0.0127 - val_loss: 0.0080\n",
      "Epoch 78/100\n",
      "25/25 [==============================] - 1s 60ms/step - loss: 0.0102 - val_loss: 0.0043\n",
      "Epoch 79/100\n",
      "25/25 [==============================] - 1s 59ms/step - loss: 0.0091 - val_loss: 0.0014\n",
      "Epoch 80/100\n",
      "25/25 [==============================] - 2s 64ms/step - loss: 0.0127 - val_loss: 0.0038\n",
      "Epoch 81/100\n",
      "25/25 [==============================] - 2s 95ms/step - loss: 0.0104 - val_loss: 0.0035\n",
      "Epoch 82/100\n",
      "25/25 [==============================] - 1s 59ms/step - loss: 0.0090 - val_loss: 0.0028\n",
      "Epoch 83/100\n",
      "25/25 [==============================] - 1s 59ms/step - loss: 0.0108 - val_loss: 0.0035\n",
      "Epoch 84/100\n",
      "25/25 [==============================] - 1s 60ms/step - loss: 0.0109 - val_loss: 0.0020\n",
      "Epoch 85/100\n",
      "25/25 [==============================] - 1s 59ms/step - loss: 0.0089 - val_loss: 0.0012\n",
      "Epoch 86/100\n",
      "25/25 [==============================] - 1s 60ms/step - loss: 0.0103 - val_loss: 0.0117\n",
      "Epoch 87/100\n",
      "25/25 [==============================] - 1s 59ms/step - loss: 0.0088 - val_loss: 0.0029\n",
      "Epoch 88/100\n",
      "25/25 [==============================] - 2s 73ms/step - loss: 0.0112 - val_loss: 0.0045\n",
      "Epoch 89/100\n",
      "25/25 [==============================] - 2s 87ms/step - loss: 0.0112 - val_loss: 0.0021\n",
      "Epoch 90/100\n",
      "25/25 [==============================] - 2s 61ms/step - loss: 0.0097 - val_loss: 0.0132\n",
      "Epoch 91/100\n",
      "25/25 [==============================] - 2s 60ms/step - loss: 0.0096 - val_loss: 0.0060\n",
      "Epoch 92/100\n",
      "25/25 [==============================] - 2s 61ms/step - loss: 0.0115 - val_loss: 9.4370e-04\n",
      "Epoch 93/100\n",
      "25/25 [==============================] - 1s 59ms/step - loss: 0.0095 - val_loss: 0.0011\n",
      "Epoch 94/100\n",
      "25/25 [==============================] - 1s 60ms/step - loss: 0.0092 - val_loss: 0.0047\n",
      "Epoch 95/100\n",
      "25/25 [==============================] - 1s 60ms/step - loss: 0.0093 - val_loss: 8.3340e-04\n",
      "Epoch 96/100\n",
      "25/25 [==============================] - 2s 71ms/step - loss: 0.0106 - val_loss: 0.0028\n",
      "Epoch 97/100\n",
      "25/25 [==============================] - 2s 88ms/step - loss: 0.0129 - val_loss: 0.0033\n",
      "Epoch 98/100\n",
      "25/25 [==============================] - 2s 61ms/step - loss: 0.0126 - val_loss: 0.0187\n",
      "Epoch 99/100\n",
      "25/25 [==============================] - 1s 60ms/step - loss: 0.0140 - val_loss: 0.0088\n",
      "Epoch 100/100\n",
      "25/25 [==============================] - 2s 60ms/step - loss: 0.0107 - val_loss: 0.0056\n"
     ]
    }
   ],
   "source": [
    "# Assuming X_train and y_train are already defined and preprocessed\n",
    "history = model.fit(X_train, y_train, epochs=100, batch_size=25, validation_split=0.2)"
   ]
  },
  {
   "cell_type": "markdown",
   "id": "2b1f1ea2-e19f-43fb-b31d-3b1686291a3d",
   "metadata": {
    "id": "2b1f1ea2-e19f-43fb-b31d-3b1686291a3d"
   },
   "source": [
    "### Overfitting and How to Avoid It"
   ]
  },
  {
   "cell_type": "markdown",
   "id": "e2e9e860-04dc-4611-b994-e9019a4bbcdc",
   "metadata": {
    "id": "e2e9e860-04dc-4611-b994-e9019a4bbcdc"
   },
   "source": [
    "**Overfitting** occurs when a model learns patterns specific to the training data, which do not generalize to new data. Here are ways to avoid overfitting:\n",
    "\n",
    "- **Validation Set**: Using a validation set (as we did in the training code) helps in monitoring the model’s performance on unseen data.\n",
    "\n",
    "- **Early Stopping**: This technique stops training when the model’s performance on the validation set starts to degrade. Implementing early stopping in Keras is straightforward:"
   ]
  },
  {
   "cell_type": "code",
   "execution_count": 15,
   "id": "e7c6ad69-bf32-4bf3-9825-b22d97a35851",
   "metadata": {
    "colab": {
     "base_uri": "https://localhost:8080/"
    },
    "id": "e7c6ad69-bf32-4bf3-9825-b22d97a35851",
    "outputId": "134ba7db-6773-42ed-cac0-a44599dbf839"
   },
   "outputs": [
    {
     "name": "stdout",
     "output_type": "stream",
     "text": [
      "Epoch 1/100\n",
      "25/25 [==============================] - 2s 93ms/step - loss: 0.0095 - val_loss: 0.0058\n",
      "Epoch 2/100\n",
      "25/25 [==============================] - 2s 89ms/step - loss: 0.0101 - val_loss: 0.0083\n",
      "Epoch 3/100\n",
      "25/25 [==============================] - 2s 81ms/step - loss: 0.0109 - val_loss: 0.0147\n",
      "Epoch 4/100\n",
      "25/25 [==============================] - 1s 60ms/step - loss: 0.0168 - val_loss: 0.0030\n",
      "Epoch 5/100\n",
      "25/25 [==============================] - 1s 59ms/step - loss: 0.0169 - val_loss: 0.0012\n",
      "Epoch 6/100\n",
      "25/25 [==============================] - 1s 60ms/step - loss: 0.0131 - val_loss: 0.0025\n",
      "Epoch 7/100\n",
      "25/25 [==============================] - 1s 59ms/step - loss: 0.0075 - val_loss: 0.0012\n",
      "Epoch 8/100\n",
      "25/25 [==============================] - 2s 73ms/step - loss: 0.0099 - val_loss: 0.0031\n",
      "Epoch 9/100\n",
      "25/25 [==============================] - 2s 85ms/step - loss: 0.0091 - val_loss: 0.0020\n",
      "Epoch 10/100\n",
      "25/25 [==============================] - 1s 59ms/step - loss: 0.0112 - val_loss: 8.4567e-04\n",
      "Epoch 11/100\n",
      "25/25 [==============================] - 1s 59ms/step - loss: 0.0075 - val_loss: 8.0611e-04\n",
      "Epoch 12/100\n",
      "25/25 [==============================] - 1s 60ms/step - loss: 0.0080 - val_loss: 0.0028\n",
      "Epoch 13/100\n",
      "25/25 [==============================] - 1s 59ms/step - loss: 0.0097 - val_loss: 8.9918e-04\n",
      "Epoch 14/100\n",
      "25/25 [==============================] - 1s 59ms/step - loss: 0.0100 - val_loss: 0.0012\n",
      "Epoch 15/100\n",
      "25/25 [==============================] - 1s 59ms/step - loss: 0.0101 - val_loss: 0.0022\n",
      "Epoch 16/100\n",
      "25/25 [==============================] - 2s 69ms/step - loss: 0.0100 - val_loss: 0.0032\n",
      "Epoch 17/100\n",
      "25/25 [==============================] - 2s 94ms/step - loss: 0.0127 - val_loss: 0.0032\n",
      "Epoch 18/100\n",
      "25/25 [==============================] - 2s 61ms/step - loss: 0.0091 - val_loss: 0.0038\n",
      "Epoch 19/100\n",
      "25/25 [==============================] - 1s 60ms/step - loss: 0.0082 - val_loss: 0.0010\n",
      "Epoch 20/100\n",
      "25/25 [==============================] - 1s 59ms/step - loss: 0.0122 - val_loss: 0.0017\n",
      "Epoch 21/100\n",
      "25/25 [==============================] - 1s 59ms/step - loss: 0.0105 - val_loss: 0.0017\n"
     ]
    }
   ],
   "source": [
    "from keras.callbacks import EarlyStopping\n",
    "\n",
    "early_stopping = EarlyStopping(monitor='val_loss', patience=10)\n",
    "history = model.fit(X_train, y_train, epochs=100, batch_size=25, validation_split=0.2, callbacks=[early_stopping])"
   ]
  },
  {
   "cell_type": "markdown",
   "id": "9f26f6b5-f370-4c8a-8d58-f8b52af321d8",
   "metadata": {
    "id": "9f26f6b5-f370-4c8a-8d58-f8b52af321d8"
   },
   "source": [
    "**Regularization Techniques**: Techniques like Dropout and Batch Normalization, which are already included in our model, also help in reducing overfitting."
   ]
  },
  {
   "cell_type": "code",
   "execution_count": 16,
   "id": "5ccff722-25e2-4537-8902-7818790d88c5",
   "metadata": {
    "colab": {
     "base_uri": "https://localhost:8080/"
    },
    "id": "5ccff722-25e2-4537-8902-7818790d88c5",
    "outputId": "265523b7-825e-4f07-8a92-e07c3e76e549"
   },
   "outputs": [
    {
     "name": "stdout",
     "output_type": "stream",
     "text": [
      "Epoch 1/100\n",
      "25/25 [==============================] - 2s 64ms/step - loss: 0.0114 - val_loss: 8.9355e-04 - lr: 0.0010\n",
      "Epoch 2/100\n",
      " 2/25 [=>............................] - ETA: 1s - loss: 0.0130"
     ]
    },
    {
     "name": "stderr",
     "output_type": "stream",
     "text": [
      "/usr/local/lib/python3.10/dist-packages/keras/src/engine/training.py:3103: UserWarning: You are saving your model as an HDF5 file via `model.save()`. This file format is considered legacy. We recommend using instead the native Keras format, e.g. `model.save('my_model.keras')`.\n",
      "  saving_api.save_model(\n"
     ]
    },
    {
     "name": "stdout",
     "output_type": "stream",
     "text": [
      "25/25 [==============================] - 2s 60ms/step - loss: 0.0100 - val_loss: 9.2540e-04 - lr: 0.0010\n",
      "Epoch 3/100\n",
      "25/25 [==============================] - 2s 85ms/step - loss: 0.0082 - val_loss: 0.0012 - lr: 0.0010\n",
      "Epoch 4/100\n",
      "25/25 [==============================] - 2s 75ms/step - loss: 0.0094 - val_loss: 0.0090 - lr: 0.0010\n",
      "Epoch 5/100\n",
      "25/25 [==============================] - 2s 61ms/step - loss: 0.0125 - val_loss: 0.0097 - lr: 0.0010\n",
      "Epoch 6/100\n",
      "25/25 [==============================] - 2s 63ms/step - loss: 0.0123 - val_loss: 0.0034 - lr: 0.0010\n",
      "Epoch 7/100\n",
      "25/25 [==============================] - 1s 60ms/step - loss: 0.0086 - val_loss: 0.0011 - lr: 1.0000e-04\n",
      "Epoch 8/100\n",
      "25/25 [==============================] - 2s 62ms/step - loss: 0.0080 - val_loss: 7.8728e-04 - lr: 1.0000e-04\n",
      "Epoch 9/100\n",
      "25/25 [==============================] - 1s 60ms/step - loss: 0.0095 - val_loss: 7.9568e-04 - lr: 1.0000e-04\n",
      "Epoch 10/100\n",
      "25/25 [==============================] - 1s 60ms/step - loss: 0.0098 - val_loss: 8.0459e-04 - lr: 1.0000e-04\n",
      "Epoch 11/100\n",
      "25/25 [==============================] - 2s 90ms/step - loss: 0.0083 - val_loss: 0.0012 - lr: 1.0000e-04\n",
      "Epoch 12/100\n",
      "25/25 [==============================] - 2s 72ms/step - loss: 0.0096 - val_loss: 8.2813e-04 - lr: 1.0000e-04\n",
      "Epoch 13/100\n",
      "25/25 [==============================] - 1s 60ms/step - loss: 0.0102 - val_loss: 8.0532e-04 - lr: 1.0000e-04\n",
      "Epoch 14/100\n",
      "25/25 [==============================] - 1s 59ms/step - loss: 0.0086 - val_loss: 8.5131e-04 - lr: 1.0000e-05\n",
      "Epoch 15/100\n",
      "25/25 [==============================] - 2s 60ms/step - loss: 0.0111 - val_loss: 0.0011 - lr: 1.0000e-05\n",
      "Epoch 16/100\n",
      "25/25 [==============================] - 1s 59ms/step - loss: 0.0121 - val_loss: 0.0012 - lr: 1.0000e-05\n",
      "Epoch 17/100\n",
      "25/25 [==============================] - 1s 60ms/step - loss: 0.0093 - val_loss: 0.0012 - lr: 1.0000e-05\n",
      "Epoch 18/100\n",
      "25/25 [==============================] - 2s 62ms/step - loss: 0.0088 - val_loss: 0.0012 - lr: 1.0000e-05\n"
     ]
    }
   ],
   "source": [
    "from keras.callbacks import ModelCheckpoint, ReduceLROnPlateau, TensorBoard, CSVLogger\n",
    "\n",
    "# Callback to save the model periodically\n",
    "model_checkpoint = ModelCheckpoint('best_model.h5', save_best_only=True, monitor='val_loss')\n",
    "\n",
    "# Callback to reduce learning rate when a metric has stopped improving\n",
    "reduce_lr = ReduceLROnPlateau(monitor='val_loss', factor=0.1, patience=5)\n",
    "\n",
    "# Callback for TensorBoard\n",
    "tensorboard = TensorBoard(log_dir='./logs')\n",
    "\n",
    "# Callback to log details to a CSV file\n",
    "csv_logger = CSVLogger('training_log.csv')\n",
    "\n",
    "# Combining all callbacks\n",
    "callbacks_list = [early_stopping, model_checkpoint, reduce_lr, tensorboard, csv_logger]\n",
    "\n",
    "# Fit the model with the callbacks\n",
    "history = model.fit(X_train, y_train, epochs=100, batch_size=25, validation_split=0.2, callbacks=callbacks_list)"
   ]
  },
  {
   "cell_type": "markdown",
   "id": "2a3471ed-9738-46f4-84ec-1d6a38b5f282",
   "metadata": {
    "id": "2a3471ed-9738-46f4-84ec-1d6a38b5f282"
   },
   "source": [
    "### Evaluating Model Performance"
   ]
  },
  {
   "cell_type": "code",
   "execution_count": 17,
   "id": "5944cdaf-4eeb-4668-9d96-413906cdf7de",
   "metadata": {
    "colab": {
     "base_uri": "https://localhost:8080/"
    },
    "id": "5944cdaf-4eeb-4668-9d96-413906cdf7de",
    "outputId": "0219f309-60b5-4de5-ef6a-fdfce9df745f"
   },
   "outputs": [
    {
     "name": "stdout",
     "output_type": "stream",
     "text": [
      "6/6 [==============================] - 0s 19ms/step - loss: 0.0081\n",
      "Test Loss:  0.008054234087467194\n"
     ]
    }
   ],
   "source": [
    "# Convert X_test and y_test to Numpy arrays if they are not already\n",
    "X_test = np.array(X_test)\n",
    "y_test = np.array(y_test)\n",
    "\n",
    "# Ensure X_test is reshaped similarly to how X_train was reshaped\n",
    "# This depends on how you preprocessed the training data\n",
    "X_test = np.reshape(X_test, (X_test.shape[0], X_test.shape[1], 1))\n",
    "\n",
    "# Now evaluate the model on the test data\n",
    "test_loss = model.evaluate(X_test, y_test)\n",
    "print(\"Test Loss: \", test_loss)"
   ]
  },
  {
   "cell_type": "markdown",
   "id": "8df44d11-2702-483b-bdb0-b656635a4b7f",
   "metadata": {
    "id": "8df44d11-2702-483b-bdb0-b656635a4b7f"
   },
   "source": [
    "### Performance Metrics"
   ]
  },
  {
   "cell_type": "markdown",
   "id": "b05b9418-b688-47bd-bd86-834d150780b3",
   "metadata": {
    "id": "b05b9418-b688-47bd-bd86-834d150780b3"
   },
   "source": [
    "In addition to the loss, other metrics can provide more insights into the model's performance. For regression tasks like ours, common metrics include:\n",
    "\n",
    "- **Mean Absolute Error (MAE)**: This measures the average magnitude of the errors in a set of predictions, without considering their direction.\n",
    "\n",
    "- **Root Mean Square Error (RMSE)**: This is the square root of the average of squared differences between prediction and actual observation."
   ]
  },
  {
   "cell_type": "code",
   "execution_count": 18,
   "id": "51b95244-4e4c-445c-8c19-e34beeb558b8",
   "metadata": {
    "colab": {
     "base_uri": "https://localhost:8080/"
    },
    "id": "51b95244-4e4c-445c-8c19-e34beeb558b8",
    "outputId": "68124096-8dc7-42fb-9375-0374d9f01ddb"
   },
   "outputs": [
    {
     "metadata": {
      "tags": null
     },
     "name": "stdout",
     "output_type": "stream",
     "text": [
      "6/6 [==============================] - 1s 17ms/step\n",
      "Mean Absolute Error:  0.08616784843495262\n",
      "Root Mean Square Error:  0.08974538620536844\n"
     ]
    }
   ],
   "source": [
    "from sklearn.metrics import mean_absolute_error, mean_squared_error\n",
    "\n",
    "# Making predictions\n",
    "y_pred = model.predict(X_test)\n",
    "\n",
    "# Calculating MAE and RMSE\n",
    "mae = mean_absolute_error(y_test, y_pred)\n",
    "rmse = mean_squared_error(y_test, y_pred, squared=False)\n",
    "\n",
    "print(\"Mean Absolute Error: \", mae)\n",
    "print(\"Root Mean Square Error: \", rmse)"
   ]
  },
  {
   "cell_type": "markdown",
   "id": "096f0913-35f6-4acb-9d58-32982716f648",
   "metadata": {
    "id": "096f0913-35f6-4acb-9d58-32982716f648"
   },
   "source": [
    "Both **MAE** and **RMSE** are measures of prediction accuracy for a regression model."
   ]
  },
  {
   "cell_type": "markdown",
   "id": "bb3555b5-9e3f-4f00-a5ed-61511ede8d36",
   "metadata": {
    "id": "bb3555b5-9e3f-4f00-a5ed-61511ede8d36"
   },
   "source": [
    "**MAE** measures the average magnitude of the errors in a set of predictions, without considering their direction. It’s the average over the test sample of the absolute differences between prediction and actual observation where all individual differences have equal weight."
   ]
  },
  {
   "cell_type": "markdown",
   "id": "8df09866-d5fb-43b7-8c03-c168d033caf6",
   "metadata": {
    "id": "8df09866-d5fb-43b7-8c03-c168d033caf6"
   },
   "source": [
    "**RMSE** is a quadratic scoring rule that also measures the average magnitude of the error. It’s the square root of the average of squared differences between prediction and actual observation. The RMSE gives a relatively high weight to large errors. This means the RMSE should be more useful when large errors are particularly undesirable."
   ]
  },
  {
   "cell_type": "markdown",
   "id": "913bbd92-a914-4746-b2ed-1162e3dcd9ab",
   "metadata": {
    "id": "913bbd92-a914-4746-b2ed-1162e3dcd9ab"
   },
   "source": [
    "### Predicting the Next 4 Candles"
   ]
  },
  {
   "cell_type": "code",
   "execution_count": 19,
   "id": "eaee0a8d-bf9f-4f08-9447-c9db9abb4a7f",
   "metadata": {
    "colab": {
     "base_uri": "https://localhost:8080/"
    },
    "id": "eaee0a8d-bf9f-4f08-9447-c9db9abb4a7f",
    "outputId": "7f64634d-f7d3-4f2b-be85-03618746336d"
   },
   "outputs": [
    {
     "name": "stderr",
     "output_type": "stream",
     "text": [
      "\r",
      "[*********************100%%**********************]  1 of 1 completed"
     ]
    },
    {
     "name": "stdout",
     "output_type": "stream",
     "text": [
      "1/1 [==============================] - 0s 32ms/step\n",
      "Predicted Stock Prices for the next 4 days:  [[171.8147]]\n"
     ]
    },
    {
     "name": "stderr",
     "output_type": "stream",
     "text": [
      "\n"
     ]
    }
   ],
   "source": [
    "import yfinance as yf\n",
    "import numpy as np\n",
    "from sklearn.preprocessing import MinMaxScaler\n",
    "\n",
    "# Fetching the latest 60 days of AAPL stock data\n",
    "data = yf.download('AAPL', period='60d', interval='1d')\n",
    "\n",
    "# Selecting the 'Close' price and converting to numpy array\n",
    "closing_prices = data['Close'].values\n",
    "\n",
    "# Scaling the data\n",
    "scaler = MinMaxScaler(feature_range=(0,1))\n",
    "scaled_data = scaler.fit_transform(closing_prices.reshape(-1,1))\n",
    "\n",
    "# Since we need the last 60 days to predict the next day, we reshape the data accordingly\n",
    "X_latest = np.array([scaled_data[-60:].reshape(60)])\n",
    "\n",
    "# Reshaping the data for the model (adding batch dimension)\n",
    "X_latest = np.reshape(X_latest, (X_latest.shape[0], X_latest.shape[1], 1))\n",
    "\n",
    "# Making predictions for the next 4 candles\n",
    "predicted_stock_price = model.predict(X_latest)\n",
    "predicted_stock_price = scaler.inverse_transform(predicted_stock_price)\n",
    "\n",
    "print(\"Predicted Stock Prices for the next 4 days: \", predicted_stock_price)"
   ]
  },
  {
   "cell_type": "code",
   "execution_count": 20,
   "id": "97aba08d-b035-46c2-9a9a-539945743041",
   "metadata": {
    "colab": {
     "base_uri": "https://localhost:8080/"
    },
    "id": "97aba08d-b035-46c2-9a9a-539945743041",
    "outputId": "765468d5-8bfc-4f3e-a862-b0e2fd267076"
   },
   "outputs": [
    {
     "name": "stderr",
     "output_type": "stream",
     "text": [
      "\r",
      "[*********************100%%**********************]  1 of 1 completed"
     ]
    },
    {
     "name": "stdout",
     "output_type": "stream",
     "text": [
      "1/1 [==============================] - 0s 26ms/step\n",
      "1/1 [==============================] - 0s 26ms/step\n"
     ]
    },
    {
     "name": "stderr",
     "output_type": "stream",
     "text": [
      "\n"
     ]
    },
    {
     "name": "stdout",
     "output_type": "stream",
     "text": [
      "1/1 [==============================] - 0s 34ms/step\n",
      "1/1 [==============================] - 0s 27ms/step\n",
      "Predicted Stock Prices for the next 4 days:  [171.8147, 173.0913, 174.28737, 175.25786]\n"
     ]
    }
   ],
   "source": [
    "import yfinance as yf\n",
    "import numpy as np\n",
    "from sklearn.preprocessing import MinMaxScaler\n",
    "\n",
    "# Fetch the latest 60 days of AAPL stock data\n",
    "data = yf.download('AAPL', period='60d', interval='1d')\n",
    "\n",
    "# Select 'Close' price and scale it\n",
    "closing_prices = data['Close'].values.reshape(-1, 1)\n",
    "scaler = MinMaxScaler(feature_range=(0, 1))\n",
    "scaled_data = scaler.fit_transform(closing_prices)\n",
    "\n",
    "# Predict the next 4 days iteratively\n",
    "predicted_prices = []\n",
    "current_batch = scaled_data[-60:].reshape(1, 60, 1)  # Most recent 60 days\n",
    "\n",
    "for i in range(4):  # Predicting 4 days\n",
    "    # Get the prediction (next day)\n",
    "    next_prediction = model.predict(current_batch)\n",
    "\n",
    "    # Reshape the prediction to fit the batch dimension\n",
    "    next_prediction_reshaped = next_prediction.reshape(1, 1, 1)\n",
    "\n",
    "    # Append the prediction to the batch used for predicting\n",
    "    current_batch = np.append(current_batch[:, 1:, :], next_prediction_reshaped, axis=1)\n",
    "\n",
    "    # Inverse transform the prediction to the original price scale\n",
    "    predicted_prices.append(scaler.inverse_transform(next_prediction)[0, 0])\n",
    "\n",
    "print(\"Predicted Stock Prices for the next 4 days: \", predicted_prices)"
   ]
  },
  {
   "cell_type": "markdown",
   "id": "22173302-73f8-4e73-bede-6f549a43b713",
   "metadata": {
    "id": "22173302-73f8-4e73-bede-6f549a43b713"
   },
   "source": [
    "### Visualization of Predictions"
   ]
  },
  {
   "cell_type": "code",
   "execution_count": 21,
   "id": "4a902909-3328-4095-bc7e-f96f4e9549d2",
   "metadata": {
    "colab": {
     "base_uri": "https://localhost:8080/",
     "height": 1000
    },
    "id": "4a902909-3328-4095-bc7e-f96f4e9549d2",
    "outputId": "5acf9b1d-525a-4d08-9ea4-8345a0f85e5e"
   },
   "outputs": [
    {
     "data": {
      "image/png": "[encoded data removed]",
      "text/plain": [
       "<Figure size 800x575 with 4 Axes>"
      ]
     },
     "metadata": {},
     "output_type": "display_data"
    },
    {
     "data": {
      "image/png": "[encoded data removed]",
      "text/plain": [
       "<Figure size 1000x600 with 1 Axes>"
      ]
     },
     "metadata": {},
     "output_type": "display_data"
    }
   ],
   "source": [
    "import pandas as pd\n",
    "import mplfinance as mpf\n",
    "import matplotlib.dates as mpl_dates\n",
    "import matplotlib.pyplot as plt\n",
    "\n",
    "# Assuming 'data' is your DataFrame with the fetched AAPL stock data\n",
    "# Make sure it contains Open, High, Low, Close, and Volume columns\n",
    "\n",
    "# Creating a list of dates for the predictions\n",
    "last_date = data.index[-1]\n",
    "next_day = last_date + pd.Timedelta(days=1)\n",
    "prediction_dates = pd.date_range(start=next_day, periods=4)\n",
    "\n",
    "# Assuming 'predicted_prices' is your list of predicted prices for the next 4 days\n",
    "predictions_df = pd.DataFrame(index=prediction_dates, data=predicted_prices, columns=['Close'])\n",
    "\n",
    "# Plotting the actual data with mplfinance\n",
    "mpf.plot(data, type='candle', style='charles', volume=True)\n",
    "\n",
    "# Overlaying the predicted data\n",
    "plt.figure(figsize=(10,6))\n",
    "plt.plot(predictions_df.index, predictions_df['Close'], linestyle='dashed', marker='o', color='red')\n",
    "\n",
    "plt.title(\"AAPL Stock Price with Predicted Next 4 Days\")\n",
    "plt.show()\n"
   ]
  },
  {
   "cell_type": "code",
   "execution_count": 22,
   "id": "c0dffa54-f2a8-4d41-ace8-fb42547f019e",
   "metadata": {
    "colab": {
     "base_uri": "https://localhost:8080/",
     "height": 659
    },
    "id": "c0dffa54-f2a8-4d41-ace8-fb42547f019e",
    "outputId": "e00b4722-9f4b-49a1-e5e1-b51d9568453d"
   },
   "outputs": [
    {
     "name": "stderr",
     "output_type": "stream",
     "text": [
      "\r",
      "[*********************100%%**********************]  1 of 1 completed"
     ]
    },
    {
     "name": "stdout",
     "output_type": "stream",
     "text": [
      "1/1 [==============================] - 0s 44ms/step\n"
     ]
    },
    {
     "name": "stderr",
     "output_type": "stream",
     "text": [
      "\n"
     ]
    },
    {
     "name": "stdout",
     "output_type": "stream",
     "text": [
      "1/1 [==============================] - 0s 49ms/step\n",
      "1/1 [==============================] - 0s 43ms/step\n",
      "1/1 [==============================] - 0s 39ms/step\n"
     ]
    },
    {
     "data": {
      "image/png": "[encoded data removed]",
      "text/plain": [
       "<Figure size 1000x600 with 1 Axes>"
      ]
     },
     "metadata": {},
     "output_type": "display_data"
    }
   ],
   "source": [
    "import pandas as pd\n",
    "import mplfinance as mpf\n",
    "import matplotlib.dates as mpl_dates\n",
    "import matplotlib.pyplot as plt\n",
    "\n",
    "# Fetch the latest 60 days of AAPL stock data\n",
    "data = yf.download('AAPL', period='64d', interval='1d') # Fetch 64 days to display last 60 days in the chart\n",
    "\n",
    "# Select 'Close' price and scale it\n",
    "closing_prices = data['Close'].values.reshape(-1, 1)\n",
    "scaler = MinMaxScaler(feature_range=(0, 1))\n",
    "scaled_data = scaler.fit_transform(closing_prices)\n",
    "\n",
    "# Predict the next 4 days iteratively\n",
    "predicted_prices = []\n",
    "current_batch = scaled_data[-60:].reshape(1, 60, 1)  # Most recent 60 days\n",
    "\n",
    "for i in range(4):  # Predicting 4 days\n",
    "    next_prediction = model.predict(current_batch)\n",
    "    next_prediction_reshaped = next_prediction.reshape(1, 1, 1)\n",
    "    current_batch = np.append(current_batch[:, 1:, :], next_prediction_reshaped, axis=1)\n",
    "    predicted_prices.append(scaler.inverse_transform(next_prediction)[0, 0])\n",
    "\n",
    "# Creating a list of dates for the predictions\n",
    "last_date = data.index[-1]\n",
    "next_day = last_date + pd.Timedelta(days=1)\n",
    "prediction_dates = pd.date_range(start=next_day, periods=4)\n",
    "\n",
    "# Adding predictions to the DataFrame\n",
    "predicted_data = pd.DataFrame(index=prediction_dates, data=predicted_prices, columns=['Close'])\n",
    "\n",
    "# Combining both actual and predicted data\n",
    "combined_data = pd.concat([data['Close'], predicted_data['Close']])\n",
    "combined_data = combined_data[-64:] # Last 60 days of actual data + 4 days of predictions\n",
    "\n",
    "# Plotting the actual data\n",
    "plt.figure(figsize=(10,6))\n",
    "plt.plot(data.index[-60:], data['Close'][-60:], linestyle='-', marker='o', color='blue', label='Actual Data')\n",
    "\n",
    "# Plotting the predicted data\n",
    "plt.plot(prediction_dates, predicted_prices, linestyle='-', marker='o', color='red', label='Predicted Data')\n",
    "\n",
    "plt.title(\"AAPL Stock Price: Last 60 Days and Next 4 Days Predicted\")\n",
    "plt.xlabel('Date')\n",
    "plt.ylabel('Price')\n",
    "plt.legend()\n",
    "plt.show()"
   ]
  },
  {
   "cell_type": "markdown",
   "id": "17c4f0ad-5d60-4784-8eb4-86234d30de5d",
   "metadata": {
    "id": "17c4f0ad-5d60-4784-8eb4-86234d30de5d"
   },
   "source": [
    "Key points include:\n",
    "\n",
    "- LSTM’s ability to capture long-term dependencies in time-series data.\n",
    "- The added advantage of the attention mechanism in focusing on relevant data points.\n",
    "- The detailed process of building, training, and evaluating the LSTM model.\n",
    "\n",
    "\n",
    "While LSTM models with attention are powerful, they have limitations:\n",
    "\n",
    "- The assumption that historical patterns will repeat in similar ways can be problematic, especially in volatile markets.\n",
    "- External factors like market news and global events, not captured in historical price data, can significantly influence stock prices."
   ]
  }
 ],
 "metadata": {
  "colab": {
   "provenance": []
  },
  "kernelspec": {
   "display_name": "Python 3 (ipykernel)",
   "language": "python",
   "name": "python3"
  },
  "language_info": {
   "codemirror_mode": {
    "name": "ipython",
    "version": 3
   },
   "file_extension": ".py",
   "mimetype": "text/x-python",
   "name": "python",
   "nbconvert_exporter": "python",
   "pygments_lexer": "ipython3",
   "version": "3.12.4"
  }
 },
 "nbformat": 4,
 "nbformat_minor": 5
}
